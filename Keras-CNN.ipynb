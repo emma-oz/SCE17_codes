{
 "cells": [
  {
   "cell_type": "code",
   "execution_count": 1,
   "metadata": {},
   "outputs": [
    {
     "name": "stderr",
     "output_type": "stream",
     "text": [
      "/Users/emmacreeves/anaconda3/lib/python3.6/site-packages/h5py/__init__.py:34: FutureWarning: Conversion of the second argument of issubdtype from `float` to `np.floating` is deprecated. In future, it will be treated as `np.float64 == np.dtype(float).type`.\n",
      "  from ._conv import register_converters as _register_converters\n",
      "Using TensorFlow backend.\n"
     ]
    }
   ],
   "source": [
    "import pickle\n",
    "import glob\n",
    "import numpy as np\n",
    "import matplotlib.pyplot as plt\n",
    "import scipy.misc\n",
    "import keras.backend as K\n",
    "import random\n",
    "\n",
    "from keras.models import Sequential, load_model  \n",
    "from keras.layers.core import Dense, Activation  \n",
    "from keras.layers import LSTM, Flatten, Dropout\n",
    "from keras.models import Sequential\n",
    "from keras.layers import Input, Dense, LSTM, TimeDistributed, Flatten, Reshape, Conv2D, MaxPooling2D\n",
    "from keras.models import Model\n",
    "from keras.preprocessing import sequence\n",
    "from keras.optimizers import Nadam\n",
    "from keras import optimizers\n",
    "from keras.layers.normalization import BatchNormalization\n",
    "\n",
    "from keras.datasets import mnist\n",
    "\n",
    "%matplotlib inline\n",
    "datapath = 'data/VLA2/5dBsim/'\n",
    "\n"
   ]
  },
  {
   "cell_type": "code",
   "execution_count": 13,
   "metadata": {},
   "outputs": [
    {
     "name": "stdout",
     "output_type": "stream",
     "text": [
      "['data/VLA2/5dBsim/x_train.p']\n",
      "data/VLA2/5dBsim/x_train.p (8000, 16, 201, 2) (0, 16, 201, 2)\n",
      "(8000, 16, 201, 2) (8000,) (2000, 16, 201, 2) (2000,) (2000, 16, 201, 2) (2000,)\n",
      "0.5129908206474556\n",
      "(16, 201, 2)\n"
     ]
    },
    {
     "data": {
      "image/png": "[encoded data removed]",
      "text/plain": [
       "<matplotlib.figure.Figure at 0x1831613d68>"
      ]
     },
     "metadata": {},
     "output_type": "display_data"
    }
   ],
   "source": [
    "xtrains = sorted(glob.glob(datapath+'x_train.p')) #+ sorted(glob.glob(datapath+'x_train_VLA2_Mar25_Y*'))\n",
    "print(xtrains)\n",
    "ytrains = sorted(glob.glob(datapath+'y_train.p'))# + sorted(glob.glob(datapath+'y_train_VLA2_Mar25_Y*'))\n",
    "xvals = sorted(glob.glob(datapath+'x_val.p')) #+ sorted(glob.glob(datapath+'x_test_VLA2_Mar25_Y*'))\n",
    "yvals = sorted(glob.glob(datapath+'y_val.p'))# + sorted(glob.glob(datapath+'y_test_VLA2_Mar25_Y*'))\n",
    "\n",
    "# intialize\n",
    "Kinput = pickle.load(open(xtrains[0],'rb'))\n",
    "X_training = np.empty([0,Kinput.shape[1],Kinput.shape[2],Kinput.shape[3]])\n",
    "Y_training = np.empty([0,])\n",
    "X_val = np.empty([0,Kinput.shape[1],Kinput.shape[2],Kinput.shape[3]])\n",
    "Y_val = np.empty([0,])\n",
    "X_test = pickle.load(open(datapath+'x_test.p','rb'))\n",
    "Y_test = pickle.load(open(datapath+'y_test.p','rb'))\n",
    "\n",
    "for fi in np.arange(0,len(xtrains)):\n",
    "    X_training_un = pickle.load(open(xtrains[fi],'rb'))\n",
    "    Y_training_un = pickle.load(open(ytrains[fi],'rb'))\n",
    "    X_val_un = pickle.load(open(xvals[fi],'rb'))\n",
    "    Y_val_un = pickle.load(open(yvals[fi],'rb'))\n",
    "    print(xtrains[fi], X_training_un.shape, X_val_un.shape)\n",
    "\n",
    "    X_training = np.concatenate((X_training, X_training_un), axis=0)\n",
    "    Y_training = np.concatenate((Y_training, Y_training_un), axis=0)\n",
    "    X_val = np.concatenate((X_val, X_val_un), axis=0)\n",
    "    Y_val = np.concatenate((Y_val, Y_val_un), axis=0)\n",
    "\n",
    "    \n",
    "img_x, img_y = 16, 201\n",
    "\n",
    "# reshaping data to 4 dimensions\n",
    "#X_training = X_training.reshape(X_training.shape[0], img_x, img_y, 1)\n",
    "#X_val = X_val.reshape(X_val.shape[0], img_x, img_y, 1)\n",
    "#X_test = X_test.reshape(X_test.shape[0], img_x, img_y, 1)\n",
    "input_shape = (img_x, img_y, 2)\n",
    "\n",
    "# Centering and Normalizing data\n",
    "mux = np.mean(X_training, axis=0)\n",
    "tmux = np.mean(X_test,axis=0)\n",
    "stdx = np.std(X_training, axis=0)\n",
    "X_training = (X_training - mux)/stdx\n",
    "X_val = (X_val - mux)/stdx\n",
    "X_test = (X_test - mux)/stdx\n",
    "\n",
    "X_val = X_test\n",
    "Y_val = Y_test\n",
    "\n",
    "traindata = list(zip(X_training, Y_training))\n",
    "random.shuffle(traindata)\n",
    "X_training, Y_training = zip(*traindata)\n",
    "X_training = np.array(X_training)\n",
    "Y_training = np.array(Y_training)\n",
    "\n",
    "\n",
    "print(X_training.shape, Y_training.shape, X_val.shape, Y_val.shape, X_test.shape, Y_test.shape)\n",
    "plt.plot(Y_training,label='Training set')\n",
    "plt.plot(Y_val,label='Cross-Validation (CV) set')\n",
    "plt.ylabel('Range (km)')\n",
    "plt.xlabel('Sample index')\n",
    "plt.title('Train, CV, and Test Sets')\n",
    "plt.plot(Y_test,label='Test set (new ship)')\n",
    "\n",
    "plt.legend()\n",
    "\n",
    "print(mux[0,1,1]-tmux[0,1,1])\n",
    "print(mux.shape)"
   ]
  },
  {
   "cell_type": "code",
   "execution_count": 3,
   "metadata": {},
   "outputs": [
    {
     "name": "stdout",
     "output_type": "stream",
     "text": [
      "WARNING:tensorflow:From /Users/emmacreeves/anaconda3/lib/python3.6/site-packages/keras/backend/tensorflow_backend.py:1255: calling reduce_prod (from tensorflow.python.ops.math_ops) with keep_dims is deprecated and will be removed in a future version.\n",
      "Instructions for updating:\n",
      "keep_dims is deprecated, use keepdims instead\n",
      "WARNING:tensorflow:From /Users/emmacreeves/anaconda3/lib/python3.6/site-packages/keras/backend/tensorflow_backend.py:1340: calling reduce_mean (from tensorflow.python.ops.math_ops) with keep_dims is deprecated and will be removed in a future version.\n",
      "Instructions for updating:\n",
      "keep_dims is deprecated, use keepdims instead\n"
     ]
    },
    {
     "name": "stderr",
     "output_type": "stream",
     "text": [
      "/Users/emmacreeves/anaconda3/lib/python3.6/site-packages/ipykernel_launcher.py:32: UserWarning: Update your `Model` call to the Keras 2 API: `Model(inputs=Tensor(\"in..., outputs=Tensor(\"de...)`\n"
     ]
    }
   ],
   "source": [
    "def get_model(input_shape=[16,51,1]):\n",
    "    input_layer = Input(shape=(input_shape))\n",
    "    \n",
    "    \n",
    "    hidden_layer1 = Conv2D(32, kernel_size=(5,35), strides=(1,1),activation='relu')(input_layer)\n",
    "   # batch_norm1 = BatchNormalization( name = \"batch_norm_1\")(hidden_layer1)\n",
    "    \n",
    "    hidden_layer2 = MaxPooling2D(pool_size=(2,2), strides=(2,2))(hidden_layer1)\n",
    "    #batch_norm2 = BatchNormalization( name = \"batch_norm_2\")(hidden_layer2)\n",
    "    \n",
    "    hidden_layer3 = Conv2D(64, (5,5), activation='relu')(hidden_layer2)\n",
    "    #batch_norm3 = BatchNormalization( name = \"batch_norm_3\")(hidden_layer3)\n",
    "    \n",
    "    hidden_layer4 = MaxPooling2D(pool_size=(2,2))(hidden_layer3)\n",
    "   # batch_norm4 = BatchNormalization( name = \"batch_norm_4\")(hidden_layer4)\n",
    "\n",
    "   # hidden_layer5 = Conv2D(128, (1,1), activation='relu')(batch_norm4)\n",
    "    #batch_norm3 = BatchNormalization( name = \"batch_norm_3\")(hidden_layer3)\n",
    "    \n",
    "   # hidden_layer6 = MaxPooling2D(pool_size=(1,1))(hidden_layer5)\n",
    "   # batch_norm4 = BatchNormalization( name = \"batch_norm_4\")(hidden_layer4)\n",
    "    \n",
    "    hidden_layer7 = Flatten()(hidden_layer4)\n",
    "  #  batch_norm5 = BatchNormalization( name = \"batch_norm_5\")(hidden_layer5)\n",
    "    \n",
    "    hidden_layer8 = Dense(1024, activation=\"relu\")(hidden_layer7)\n",
    "   # batch_norm6 = BatchNormalization( name = \"batch_norm_6\")(hidden_layer6)  \n",
    "    \n",
    "    hidden_layer9 = Dense(256, activation=\"relu\")(hidden_layer8)\n",
    "    \n",
    "    output_layer = Dense(1, activation=\"linear\")(hidden_layer9)\n",
    "    model = Model(inputs = input_layer, output = output_layer)\n",
    "    \n",
    "    return model\n",
    "    \n",
    "    \n",
    "\n",
    "n_epochs = 25\n",
    "optimizer = optimizers.RMSprop()#lr=1e-4)#, beta_1=0.9, beta_2=0.999, epsilon=1e-08)#, schedule_decay=0.004)\n",
    "model = get_model(input_shape)\n",
    "model.compile(loss=\"mean_squared_error\", optimizer=optimizer)\n"
   ]
  },
  {
   "cell_type": "code",
   "execution_count": 4,
   "metadata": {},
   "outputs": [
    {
     "name": "stdout",
     "output_type": "stream",
     "text": [
      "Train on 8000 samples, validate on 2000 samples\n",
      "Epoch 1/25\n",
      "8000/8000 [==============================] - 41s 5ms/step - loss: 32.0335 - val_loss: 101.6706\n",
      "Epoch 2/25\n",
      "8000/8000 [==============================] - 45s 6ms/step - loss: 9.5184 - val_loss: 110.5163\n",
      "Epoch 3/25\n",
      "8000/8000 [==============================] - 51s 6ms/step - loss: 6.0824 - val_loss: 65.8595\n",
      "Epoch 4/25\n",
      "8000/8000 [==============================] - 55s 7ms/step - loss: 4.1067 - val_loss: 63.2601\n",
      "Epoch 5/25\n",
      "8000/8000 [==============================] - 59s 7ms/step - loss: 3.0884 - val_loss: 51.4532\n",
      "Epoch 6/25\n",
      "8000/8000 [==============================] - 65s 8ms/step - loss: 2.5344 - val_loss: 40.0525\n",
      "Epoch 7/25\n",
      "8000/8000 [==============================] - 60s 8ms/step - loss: 2.0287 - val_loss: 35.2121\n",
      "Epoch 8/25\n",
      "8000/8000 [==============================] - 60s 7ms/step - loss: 1.7670 - val_loss: 25.4104\n",
      "Epoch 9/25\n",
      "8000/8000 [==============================] - 61s 8ms/step - loss: 1.6098 - val_loss: 28.6829\n",
      "Epoch 10/25\n",
      "8000/8000 [==============================] - 61s 8ms/step - loss: 1.4528 - val_loss: 17.8649\n",
      "Epoch 11/25\n",
      "8000/8000 [==============================] - 64s 8ms/step - loss: 1.2345 - val_loss: 35.0681\n",
      "Epoch 12/25\n",
      "8000/8000 [==============================] - 63s 8ms/step - loss: 1.1694 - val_loss: 31.5526\n",
      "Epoch 13/25\n",
      "8000/8000 [==============================] - 64s 8ms/step - loss: 1.0544 - val_loss: 17.4588\n",
      "Epoch 14/25\n",
      "8000/8000 [==============================] - 63s 8ms/step - loss: 0.9801 - val_loss: 13.0288\n",
      "Epoch 15/25\n",
      "8000/8000 [==============================] - 64s 8ms/step - loss: 0.8572 - val_loss: 11.5993\n",
      "Epoch 16/25\n",
      "8000/8000 [==============================] - 64s 8ms/step - loss: 0.8140 - val_loss: 17.7574\n",
      "Epoch 17/25\n",
      "8000/8000 [==============================] - 66s 8ms/step - loss: 0.7673 - val_loss: 10.0386\n",
      "Epoch 18/25\n",
      "8000/8000 [==============================] - 62s 8ms/step - loss: 0.7000 - val_loss: 10.3921\n",
      "Epoch 19/25\n",
      "8000/8000 [==============================] - 62s 8ms/step - loss: 0.6360 - val_loss: 10.9757\n",
      "Epoch 20/25\n",
      "8000/8000 [==============================] - 62s 8ms/step - loss: 0.6357 - val_loss: 14.7738\n",
      "Epoch 21/25\n",
      "8000/8000 [==============================] - 63s 8ms/step - loss: 0.6101 - val_loss: 13.8968\n",
      "Epoch 22/25\n",
      "8000/8000 [==============================] - 63s 8ms/step - loss: 0.5895 - val_loss: 5.4881\n",
      "Epoch 23/25\n",
      "8000/8000 [==============================] - 60s 8ms/step - loss: 0.5642 - val_loss: 2.3588\n",
      "Epoch 24/25\n",
      "8000/8000 [==============================] - 55s 7ms/step - loss: 0.5530 - val_loss: 5.6823\n",
      "Epoch 25/25\n",
      "8000/8000 [==============================] - 52s 7ms/step - loss: 0.5265 - val_loss: 3.8017\n"
     ]
    }
   ],
   "source": [
    "\n",
    "batch_size = 20\n",
    "L=len(X_training)\n",
    "val_data = (X_val, Y_val)\n",
    "history = model.fit(X_training, Y_training, batch_size=batch_size, epochs=n_epochs, validation_data=val_data)"
   ]
  },
  {
   "cell_type": "code",
   "execution_count": 8,
   "metadata": {},
   "outputs": [
    {
     "ename": "TypeError",
     "evalue": "tuple indices must be integers or slices, not tuple",
     "output_type": "error",
     "traceback": [
      "\u001b[0;31m---------------------------------------------------------------------------\u001b[0m",
      "\u001b[0;31mTypeError\u001b[0m                                 Traceback (most recent call last)",
      "\u001b[0;32m<ipython-input-8-4a35a65b9312>\u001b[0m in \u001b[0;36m<module>\u001b[0;34m()\u001b[0m\n\u001b[1;32m     17\u001b[0m \u001b[0mplt\u001b[0m\u001b[0;34m.\u001b[0m\u001b[0mtitle\u001b[0m\u001b[0;34m(\u001b[0m\u001b[0;34m'Training'\u001b[0m\u001b[0;34m)\u001b[0m\u001b[0;34m\u001b[0m\u001b[0m\n\u001b[1;32m     18\u001b[0m \u001b[0;34m\u001b[0m\u001b[0m\n\u001b[0;32m---> 19\u001b[0;31m \u001b[0mRMSE_Ytrain\u001b[0m \u001b[0;34m=\u001b[0m \u001b[0mnp\u001b[0m\u001b[0;34m.\u001b[0m\u001b[0msqrt\u001b[0m\u001b[0;34m(\u001b[0m\u001b[0mnp\u001b[0m\u001b[0;34m.\u001b[0m\u001b[0mmean\u001b[0m\u001b[0;34m(\u001b[0m\u001b[0mnp\u001b[0m\u001b[0;34m.\u001b[0m\u001b[0msquare\u001b[0m\u001b[0;34m(\u001b[0m\u001b[0mnp\u001b[0m\u001b[0;34m.\u001b[0m\u001b[0mabs\u001b[0m\u001b[0;34m(\u001b[0m\u001b[0mY_training\u001b[0m\u001b[0;34m-\u001b[0m\u001b[0mpreds2\u001b[0m\u001b[0;34m[\u001b[0m\u001b[0;34m:\u001b[0m\u001b[0;34m,\u001b[0m\u001b[0;36m0\u001b[0m\u001b[0;34m]\u001b[0m\u001b[0;34m)\u001b[0m\u001b[0;34m)\u001b[0m\u001b[0;34m)\u001b[0m\u001b[0;34m)\u001b[0m\u001b[0;34m\u001b[0m\u001b[0m\n\u001b[0m\u001b[1;32m     20\u001b[0m \u001b[0;34m\u001b[0m\u001b[0m\n\u001b[1;32m     21\u001b[0m \u001b[0;34m\u001b[0m\u001b[0m\n",
      "\u001b[0;31mTypeError\u001b[0m: tuple indices must be integers or slices, not tuple"
     ]
    },
    {
     "data": {
      "image/png": "[encoded data removed]",
      "text/plain": [
       "<matplotlib.figure.Figure at 0x181ffd8b70>"
      ]
     },
     "metadata": {},
     "output_type": "display_data"
    }
   ],
   "source": [
    "fig = plt.figure()\n",
    "\n",
    "preds = model.predict(X_val)\n",
    "preds2 = model.predict(X_training)\n",
    "preds3 = model.predict(X_test)\n",
    "\n",
    "_pred = list(zip(preds2, Y_training))\n",
    "_pred.sort(key=lambda x: x[1])\n",
    "preds2, Y_tr = zip(*_pred)\n",
    "\n",
    "plt.subplot(121)\n",
    "plt.plot(preds2,'o',color='blue',markersize=2,mew=0.5,mec='blue',markerfacecolor='none')\n",
    "plt.plot(Y_tr,'y',linewidth=1.0)\n",
    "#plt.legend(['Training Set', 'Ground Truth'])\n",
    "plt.xlabel('Sample index')\n",
    "plt.ylabel('Range (km)')\n",
    "plt.title('Training')\n",
    "\n",
    "RMSE_Ytrain = np.sqrt(np.mean(np.square(np.abs(Y_training-preds2[:,0]))))\n",
    "\n",
    "\n",
    "plt.subplot(122)\n",
    "plt.plot(preds,'o',color='blue',markersize=2,mew=0.5,mec='blue',markerfacecolor='none')\n",
    "plt.plot(Y_val,'r',linewidth=1.0)\n",
    "#plt.legend(['Predictions', 'Ground Truth'])\n",
    "plt.xlabel('Sample index')\n",
    "#plt.ylabel('Range (km)')\n",
    "plt.title('Validation')\n",
    "\n",
    "RMSE_Yval = np.sqrt(np.mean(np.square(np.abs(Y_val-preds[:,0]))))\n",
    "\n",
    "#plt.subplot(133)\n",
    "plt.figure()\n",
    "plt.plot(preds3,'o',color='blue',markersize=2,mew=0.5,mec='blue',markerfacecolor='none')\n",
    "plt.plot(Y_test,'r',linewidth=1.0)\n",
    "#plt.plot(Y_training,'y',linewidth=1.0)\n",
    "plt.legend(['Predictions', 'Ground Truth'])\n",
    "plt.xlabel('Sample index')\n",
    "#plt.ylabel('Range (km)')\n",
    "plt.title('Test (Simulation)')\n",
    "plt.savefig('test_CNN_simulation_5dB.pdf')\n",
    "plt.show()\n",
    "\n",
    "\n",
    "RMSE_Ytest = np.sqrt(np.mean(np.square(np.abs(Y_test-preds3[:,0]))))\n",
    "MAE = np.mean(np.abs(Y_test - preds3[:,0])/Y_test)\n",
    "\n",
    "print('Training set RMSE = ' + str(RMSE_Ytrain) + ' km')\n",
    "print('Validation set RMSE = ' + str(RMSE_Yval) + ' km')\n",
    "print('Test set RMSE = ' + str(RMSE_Ytest) + ' km')\n",
    "print('Test mean relative error = ' + str(MAE) + ' km')\n",
    "\n",
    "plt.figure()\n",
    "plt.plot(history.history['loss'])\n",
    "plt.plot(history.history['val_loss'])\n",
    "\n",
    "plt.figure()\n",
    "plt.plot(Y_test,np.abs(Y_test - preds3[:,0])/Y_test*100)"
   ]
  }
 ],
 "metadata": {
  "kernelspec": {
   "display_name": "Python 3",
   "language": "python",
   "name": "python3"
  },
  "language_info": {
   "codemirror_mode": {
    "name": "ipython",
    "version": 3
   },
   "file_extension": ".py",
   "mimetype": "text/x-python",
   "name": "python",
   "nbconvert_exporter": "python",
   "pygments_lexer": "ipython3",
   "version": "3.6.3"
  }
 },
 "nbformat": 4,
 "nbformat_minor": 2
}
