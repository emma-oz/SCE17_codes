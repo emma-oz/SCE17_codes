{
 "cells": [
  {
   "cell_type": "code",
   "execution_count": 1,
   "metadata": {},
   "outputs": [
    {
     "name": "stderr",
     "output_type": "stream",
     "text": [
      "Using TensorFlow backend.\n",
      "/usr/local/anaconda3/lib/python3.6/importlib/_bootstrap.py:205: RuntimeWarning: compiletime version 3.5 of module 'tensorflow.python.framework.fast_tensor_util' does not match runtime version 3.6\n",
      "  return f(*args, **kwds)\n"
     ]
    }
   ],
   "source": [
    "import pickle\n",
    "import numpy as np\n",
    "import os\n",
    "import matplotlib.pyplot as plt\n",
    "\n",
    "from keras.models import Sequential  \n",
    "from keras.layers.core import Dense, Activation  \n",
    "from keras.layers import LSTM, Flatten, Dropout\n",
    "from keras.models import Sequential\n",
    "from keras.layers import Input,Dense, LSTM,TimeDistributed, Flatten, Reshape\n",
    "from keras.models import Model\n",
    "import keras.backend as K\n",
    "from keras.preprocessing import sequence\n",
    "from keras.optimizers import Nadam\n",
    "from keras import optimizers\n",
    "from keras.layers.normalization import BatchNormalization\n",
    "from keras.callbacks import EarlyStopping\n",
    "\n",
    "%matplotlib inline"
   ]
  },
  {
   "cell_type": "code",
   "execution_count": 2,
   "metadata": {
    "collapsed": true
   },
   "outputs": [],
   "source": [
    "# X_training = pickle.load(open(\"../data/X_train.pickle\",\"rb\"))\n",
    "# Y_training = pickle.load(open(\"../data/Y_train.pickle\",\"rb\"))\n",
    "# X_testing = pickle.load(open(\"../data/X_test.pickle\",\"rb\"))\n",
    "# Y_testing = pickle.load(open(\"../data/Y_test.pickle\",\"rb\"))\n",
    "\n",
    "# X_training_un = pickle.load(open(\"../data/X_train_un.pickle\",\"rb\"))\n",
    "# Y_training_un = pickle.load(open(\"../data/Y_train_un.pickle\",\"rb\"))\n",
    "# X_testing_un = pickle.load(open(\"../data/X_test_un.pickle\",\"rb\"))\n",
    "# Y_testing_un = pickle.load(open(\"../data/Y_test_un.pickle\",\"rb\"))\n",
    "\n",
    "# X_training = np.concatenate((X_training, X_training_un), axis=0)\n",
    "# Y_training = np.concatenate((Y_training, Y_training_un), axis=0)\n",
    "# X_testing = np.concatenate((X_testing, X_testing_un), axis=0)\n",
    "# Y_testing = np.concatenate((Y_testing, Y_testing_un), axis=0)\n",
    "\n",
    "# # Centering\n",
    "# mux = np.mean(X_training, axis=0)\n",
    "# stdx = np.std(X_training, axis=0)\n",
    "# X_training = (X_training - mux)/stdx\n",
    "# X_testing = (X_testing - mux)/stdx"
   ]
  },
  {
   "cell_type": "code",
   "execution_count": 3,
   "metadata": {},
   "outputs": [
    {
     "name": "stdout",
     "output_type": "stream",
     "text": [
      "Data read and pre-processed\n"
     ]
    }
   ],
   "source": [
    "data_dir = '../data2/f_D100_ush'\n",
    "\n",
    "X_training = np.load(os.path.join(data_dir, \"X_train.npy\"))\n",
    "Y_training = np.load(os.path.join(data_dir, \"Y_train.npy\"))\n",
    "\n",
    "X_val = np.load(os.path.join(data_dir, \"X_val.npy\"))\n",
    "Y_val = np.load(os.path.join(data_dir, \"Y_val.npy\"))\n",
    "\n",
    "X_testing = np.load(os.path.join(data_dir, \"X_test.npy\"))\n",
    "Y_testing = np.load(os.path.join(data_dir, \"Y_test.npy\"))\n",
    "\n",
    "\n",
    "ds_rate = 1\n",
    "X_training = np.array([val for key, val in enumerate(X_training) if key%ds_rate==0])\n",
    "Y_training = np.array([val for key, val in enumerate(Y_training) if key%ds_rate==0])\n",
    "\n",
    "X_val = np.array([val for key, val in enumerate(X_val) if key%ds_rate==0])\n",
    "Y_val = np.array([val for key, val in enumerate(Y_val) if key%ds_rate==0])\n",
    "\n",
    "X_testing = np.array([val for key, val in enumerate(X_testing) if key%ds_rate==0])\n",
    "Y_testing = np.array([val for key, val in enumerate(Y_testing) if key%ds_rate==0])\n",
    "\n",
    "# Centering and Normalizing data\n",
    "\n",
    "mux = np.mean(X_training, axis=0)\n",
    "stdx = np.std(X_training, axis=0)\n",
    "X_training = (X_training - mux)/stdx\n",
    "X_val = (X_val - mux)/stdx\n",
    "X_testing = (X_testing - mux)/stdx\n",
    "\n",
    "print(\"Data read and pre-processed\")"
   ]
  },
  {
   "cell_type": "code",
   "execution_count": 4,
   "metadata": {},
   "outputs": [
    {
     "data": {
      "image/png": "[encoded data removed]",
      "text/plain": [
       "<matplotlib.figure.Figure at 0x7f613818dd30>"
      ]
     },
     "metadata": {},
     "output_type": "display_data"
    }
   ],
   "source": [
    "plt.hist(Y_training)\n",
    "plt.show()"
   ]
  },
  {
   "cell_type": "code",
   "execution_count": 19,
   "metadata": {
    "collapsed": true
   },
   "outputs": [],
   "source": [
    "def get_model(time_steps = 30, data_dim = 50):\n",
    "    in_neurons = 50\n",
    "    out_neurons= 1\n",
    "    hidden_neurons = 20\n",
    "    \n",
    "    # model = Sequential()\n",
    "    # model.add(LSTM(hidden_neurons, input_shape=(time_steps, data_dim), return_sequences=True, activation=\"relu\"))\n",
    "    # # model.add(Flatten())\n",
    "    # model.add(LSTM(25, return_sequences=False, activation=\"relu\"))\n",
    "    # model.add(Dense(out_neurons, input_shape = (time_steps, hidden_neurons), activation=\"linear\"))\n",
    "    # # model.add(Activation(\"linear\"))\n",
    "    # nadam = Nadam(lr=1e-5, beta_1=0.9, beta_2=0.999, epsilon=1e-08, schedule_decay=0.004)\n",
    "    # model.compile(loss=\"mean_squared_error\", optimizer=nadam)\n",
    "    # L=len(X_training)\n",
    "\n",
    "    layer1Dim = 256#100\n",
    "    layer2Dim = 50\n",
    "    inputs = Input(shape=(time_steps, data_dim))\n",
    "#     batchNorm1 = BatchNormalization( name = \"batch_norm_1\")(inputs)\n",
    "    lstm1 = LSTM(layer1Dim, return_sequences = True, name = 'lstm_1', activation=\"tanh\")(inputs)\n",
    "#     batchNorm2 = BatchNormalization( name = \"batch_norm_2\")(lstm1)\n",
    "    dropout1 = Dropout(0.0)(lstm1)\n",
    "    lstm2 = LSTM(layer2Dim, return_sequences = True, name = 'lstm_2', activation=\"relu\")(dropout1)\n",
    "    batchNorm3 = BatchNormalization( name = \"batch_norm_3\")(lstm2)\n",
    "    flatten = Flatten()(lstm1)\n",
    "    dense1 = Dense(512, activation=\"relu\", name=\"Dense1\")(flatten)\n",
    "    dropout2 = Dropout(0.0)(dense1)\n",
    "    output = Dense(1, activation='linear', name=\"Output\")(dropout2)\n",
    "    model = Model(inputs = inputs, outputs = output)\n",
    "    \n",
    "    op = dense1._keras_shape\n",
    "    print(op[0], op[1])\n",
    "    \n",
    "    return model   "
   ]
  },
  {
   "cell_type": "code",
   "execution_count": null,
   "metadata": {},
   "outputs": [],
   "source": [
    "get_model()"
   ]
  },
  {
   "cell_type": "code",
   "execution_count": 6,
   "metadata": {
    "collapsed": true
   },
   "outputs": [],
   "source": [
    "def get_model2(data_dim = 50):\n",
    "    model = Sequential()\n",
    "    model.add(Dense(input_shape=(data_dim,), output_dim=256))\n",
    "    model.add(Activation(\"tanh\"))\n",
    "    model.add(BatchNormalization())\n",
    "    model.add(Dropout(0.50))\n",
    "    model.add(Dense(output_dim=128))\n",
    "    model.add(Activation(\"relu\"))\n",
    "    model.add(BatchNormalization())\n",
    "    model.add(Dropout(0.50))\n",
    "    model.add(Dense(output_dim=64))\n",
    "    model.add(Activation(\"relu\"))\n",
    "    model.add(BatchNormalization())\n",
    "    model.add(Dropout(0.50))\n",
    "    model.add(Dense(output_dim=1))   \n",
    "    return model"
   ]
  },
  {
   "cell_type": "code",
   "execution_count": 7,
   "metadata": {
    "collapsed": true
   },
   "outputs": [],
   "source": [
    "def create_dataset(X, Y, time_steps=1):\n",
    "    dataX, dataY = [], []\n",
    "    for i in range(len(X)-time_steps-1):\n",
    "        a = X[i:(i+time_steps)]\n",
    "        dataX.append(a)\n",
    "        a = Y[(i+time_steps)]\n",
    "        dataY.append(a)  #dataset[i + look_back, 0])\n",
    "    return np.array(dataX), np.array(dataY)"
   ]
  },
  {
   "cell_type": "code",
   "execution_count": 8,
   "metadata": {
    "collapsed": true
   },
   "outputs": [],
   "source": [
    "time_steps = 30\n",
    "trainX, trainY = create_dataset(X_training, Y_training, time_steps)\n",
    "valX, valY = create_dataset(X_val, Y_val, time_steps)\n",
    "testX, testY = create_dataset(X_testing, Y_testing, time_steps)"
   ]
  },
  {
   "cell_type": "code",
   "execution_count": 9,
   "metadata": {},
   "outputs": [
    {
     "name": "stdout",
     "output_type": "stream",
     "text": [
      "(25694, 100) (25694,)\n",
      "(25663, 30, 100) (25663,)\n",
      "(1742, 30, 100) (1742,)\n",
      "(10981, 30, 100) (10981,)\n"
     ]
    }
   ],
   "source": [
    "print(X_training.shape, Y_training.shape)\n",
    "print(trainX.shape, trainY.shape)\n",
    "print(testX.shape, testY.shape)\n",
    "print(valX.shape, valY.shape)"
   ]
  },
  {
   "cell_type": "code",
   "execution_count": 10,
   "metadata": {
    "collapsed": true
   },
   "outputs": [],
   "source": [
    "# # Training\n",
    "# n_epochs = 20\n",
    "# time_steps = 5\n",
    "# data_dim = X_training.shape[1]\n",
    "# rmses = np.zeros((time_steps, n_epochs))\n",
    "# optimizer = optimizers.RMSprop(lr=1e-5)#, beta_1=0.9, beta_2=0.999, epsilon=1e-08)#, schedule_decay=0.004)\n",
    "\n",
    "# for time_step in range(1,time_steps+1):\n",
    "#     model = get_model(time_steps, data_dim)\n",
    "#     model.compile(loss=\"mean_squared_error\", optimizer=optimizer)\n",
    "#     for i in range(n_epochs):\n",
    "#         for j in range(L-time_steps):\n",
    "#             X_train = np.reshape(X_training[j:j+time_steps,:], [1, time_steps, data_dim])\n",
    "#             Y_train = np.reshape(Y_training[j+time_steps], [1, 1])\n",
    "#             model.fit(X_train, Y_train, verbose=0, epochs=1)\n",
    "#         rmse = get_rmse(model, X_testing, Y_testing, time_steps)\n",
    "#         print(\"Time-Step {}/{} \\t Epoch {}/{} \\t RMSE = {}\".format(time_step, time_steps, i+1, n_epochs, rmse))\n",
    "#         rmses[time_step-1, i] = rmse\n",
    "# #     print(\"Time Step {} done\".format(time_step))"
   ]
  },
  {
   "cell_type": "code",
   "execution_count": 11,
   "metadata": {
    "scrolled": true
   },
   "outputs": [
    {
     "name": "stdout",
     "output_type": "stream",
     "text": [
      "_________________________________________________________________\n",
      "Layer (type)                 Output Shape              Param #   \n",
      "=================================================================\n",
      "input_1 (InputLayer)         (None, 30, 100)           0         \n",
      "_________________________________________________________________\n",
      "lstm_1 (LSTM)                (None, 30, 256)           365568    \n",
      "_________________________________________________________________\n",
      "flatten_1 (Flatten)          (None, 7680)              0         \n",
      "_________________________________________________________________\n",
      "Dense1 (Dense)               (None, 512)               3932672   \n",
      "_________________________________________________________________\n",
      "dropout_2 (Dropout)          (None, 512)               0         \n",
      "_________________________________________________________________\n",
      "Output (Dense)               (None, 1)                 513       \n",
      "=================================================================\n",
      "Total params: 4,298,753\n",
      "Trainable params: 4,298,753\n",
      "Non-trainable params: 0\n",
      "_________________________________________________________________\n",
      "None\n"
     ]
    }
   ],
   "source": [
    "n_epochs = 50\n",
    "data_dim = X_training.shape[1]\n",
    "optimizer = optimizers.Adam()#, beta_1=0.9, beta_2=0.999, epsilon=1e-08)#, schedule_decay=0.004)\n",
    "model = get_model(time_steps, data_dim)\n",
    "model.compile(loss=\"mean_squared_error\", optimizer=optimizer)\n",
    "earlystop = EarlyStopping(monitor='val_loss', min_delta=0.0001, patience=5, \\\n",
    "                          verbose=1, mode='auto')\n",
    "callbacks_list = [earlystop]\n",
    "print(model.summary())\n",
    "batch_size = 20\n",
    "L=len(X_training)\n",
    "\n",
    "# for i in range(n_epochs):\n",
    "#     for j in range(0, L, batch_size):\n",
    "#         X_train = np.reshape(X_training[j:j+batch_size,:], [1, batch_size, data_dim])\n",
    "#         Y_train = np.reshape(Y_training[j+batch_size], [1, 1])\n",
    "val_data = (valX, valY)\n",
    "# model.fit(X_training, Y_training, batch_size=batch_size, epochs=20, validation_data=val_data)\n",
    "# rmse = get_rmse(model, X_testing, Y_testing, time_steps)\n",
    "# print(\"Time-Step {}/{} \\t Epoch {}/{} \\t RMSE = {}\".format(time_step, time_steps, i+1, n_epochs, rmse))\n",
    "# rmses[time_step-1, i] = rmse"
   ]
  },
  {
   "cell_type": "code",
   "execution_count": 12,
   "metadata": {
    "scrolled": true
   },
   "outputs": [
    {
     "name": "stdout",
     "output_type": "stream",
     "text": [
      "Train on 25663 samples, validate on 10981 samples\n",
      "Epoch 1/200\n",
      " 2700/25663 [==>...........................] - ETA: 1:31 - loss: 24.1733"
     ]
    },
    {
     "ename": "KeyboardInterrupt",
     "evalue": "",
     "output_type": "error",
     "traceback": [
      "\u001b[0;31m---------------------------------------------------------------------------\u001b[0m",
      "\u001b[0;31mKeyboardInterrupt\u001b[0m                         Traceback (most recent call last)",
      "\u001b[0;32m<ipython-input-12-246f36a2cfb5>\u001b[0m in \u001b[0;36m<module>\u001b[0;34m()\u001b[0m\n\u001b[1;32m      1\u001b[0m \u001b[0;31m#model.fit(X_training, Y_training, batch_size=batch_size, epochs=50, validation_data=val_data)\u001b[0m\u001b[0;34m\u001b[0m\u001b[0;34m\u001b[0m\u001b[0m\n\u001b[1;32m      2\u001b[0m \u001b[0;34m\u001b[0m\u001b[0m\n\u001b[0;32m----> 3\u001b[0;31m \u001b[0mmodel\u001b[0m\u001b[0;34m.\u001b[0m\u001b[0mfit\u001b[0m\u001b[0;34m(\u001b[0m\u001b[0mtrainX\u001b[0m\u001b[0;34m,\u001b[0m \u001b[0mtrainY\u001b[0m\u001b[0;34m,\u001b[0m \u001b[0mbatch_size\u001b[0m\u001b[0;34m=\u001b[0m\u001b[0mbatch_size\u001b[0m\u001b[0;34m,\u001b[0m \u001b[0mepochs\u001b[0m\u001b[0;34m=\u001b[0m\u001b[0;36m200\u001b[0m\u001b[0;34m,\u001b[0m \u001b[0mvalidation_data\u001b[0m\u001b[0;34m=\u001b[0m\u001b[0mval_data\u001b[0m\u001b[0;34m,\u001b[0m \u001b[0mcallbacks\u001b[0m\u001b[0;34m=\u001b[0m\u001b[0mcallbacks_list\u001b[0m\u001b[0;34m)\u001b[0m\u001b[0;34m\u001b[0m\u001b[0m\n\u001b[0m",
      "\u001b[0;32m/usr/local/anaconda3/lib/python3.6/site-packages/keras/engine/training.py\u001b[0m in \u001b[0;36mfit\u001b[0;34m(self, x, y, batch_size, epochs, verbose, callbacks, validation_split, validation_data, shuffle, class_weight, sample_weight, initial_epoch, steps_per_epoch, validation_steps, **kwargs)\u001b[0m\n\u001b[1;32m   1648\u001b[0m                               \u001b[0minitial_epoch\u001b[0m\u001b[0;34m=\u001b[0m\u001b[0minitial_epoch\u001b[0m\u001b[0;34m,\u001b[0m\u001b[0;34m\u001b[0m\u001b[0m\n\u001b[1;32m   1649\u001b[0m                               \u001b[0msteps_per_epoch\u001b[0m\u001b[0;34m=\u001b[0m\u001b[0msteps_per_epoch\u001b[0m\u001b[0;34m,\u001b[0m\u001b[0;34m\u001b[0m\u001b[0m\n\u001b[0;32m-> 1650\u001b[0;31m                               validation_steps=validation_steps)\n\u001b[0m\u001b[1;32m   1651\u001b[0m \u001b[0;34m\u001b[0m\u001b[0m\n\u001b[1;32m   1652\u001b[0m     def evaluate(self, x=None, y=None,\n",
      "\u001b[0;32m/usr/local/anaconda3/lib/python3.6/site-packages/keras/engine/training.py\u001b[0m in \u001b[0;36m_fit_loop\u001b[0;34m(self, f, ins, out_labels, batch_size, epochs, verbose, callbacks, val_f, val_ins, shuffle, callback_metrics, initial_epoch, steps_per_epoch, validation_steps)\u001b[0m\n\u001b[1;32m   1211\u001b[0m                     \u001b[0mbatch_logs\u001b[0m\u001b[0;34m[\u001b[0m\u001b[0;34m'size'\u001b[0m\u001b[0;34m]\u001b[0m \u001b[0;34m=\u001b[0m \u001b[0mlen\u001b[0m\u001b[0;34m(\u001b[0m\u001b[0mbatch_ids\u001b[0m\u001b[0;34m)\u001b[0m\u001b[0;34m\u001b[0m\u001b[0m\n\u001b[1;32m   1212\u001b[0m                     \u001b[0mcallbacks\u001b[0m\u001b[0;34m.\u001b[0m\u001b[0mon_batch_begin\u001b[0m\u001b[0;34m(\u001b[0m\u001b[0mbatch_index\u001b[0m\u001b[0;34m,\u001b[0m \u001b[0mbatch_logs\u001b[0m\u001b[0;34m)\u001b[0m\u001b[0;34m\u001b[0m\u001b[0m\n\u001b[0;32m-> 1213\u001b[0;31m                     \u001b[0mouts\u001b[0m \u001b[0;34m=\u001b[0m \u001b[0mf\u001b[0m\u001b[0;34m(\u001b[0m\u001b[0mins_batch\u001b[0m\u001b[0;34m)\u001b[0m\u001b[0;34m\u001b[0m\u001b[0m\n\u001b[0m\u001b[1;32m   1214\u001b[0m                     \u001b[0;32mif\u001b[0m \u001b[0;32mnot\u001b[0m \u001b[0misinstance\u001b[0m\u001b[0;34m(\u001b[0m\u001b[0mouts\u001b[0m\u001b[0;34m,\u001b[0m \u001b[0mlist\u001b[0m\u001b[0;34m)\u001b[0m\u001b[0;34m:\u001b[0m\u001b[0;34m\u001b[0m\u001b[0m\n\u001b[1;32m   1215\u001b[0m                         \u001b[0mouts\u001b[0m \u001b[0;34m=\u001b[0m \u001b[0;34m[\u001b[0m\u001b[0mouts\u001b[0m\u001b[0;34m]\u001b[0m\u001b[0;34m\u001b[0m\u001b[0m\n",
      "\u001b[0;32m/usr/local/anaconda3/lib/python3.6/site-packages/keras/backend/tensorflow_backend.py\u001b[0m in \u001b[0;36m__call__\u001b[0;34m(self, inputs)\u001b[0m\n\u001b[1;32m   2350\u001b[0m         \u001b[0msession\u001b[0m \u001b[0;34m=\u001b[0m \u001b[0mget_session\u001b[0m\u001b[0;34m(\u001b[0m\u001b[0;34m)\u001b[0m\u001b[0;34m\u001b[0m\u001b[0m\n\u001b[1;32m   2351\u001b[0m         updated = session.run(fetches=fetches, feed_dict=feed_dict,\n\u001b[0;32m-> 2352\u001b[0;31m                               **self.session_kwargs)\n\u001b[0m\u001b[1;32m   2353\u001b[0m         \u001b[0;32mreturn\u001b[0m \u001b[0mupdated\u001b[0m\u001b[0;34m[\u001b[0m\u001b[0;34m:\u001b[0m\u001b[0mlen\u001b[0m\u001b[0;34m(\u001b[0m\u001b[0mself\u001b[0m\u001b[0;34m.\u001b[0m\u001b[0moutputs\u001b[0m\u001b[0;34m)\u001b[0m\u001b[0;34m]\u001b[0m\u001b[0;34m\u001b[0m\u001b[0m\n\u001b[1;32m   2354\u001b[0m \u001b[0;34m\u001b[0m\u001b[0m\n",
      "\u001b[0;32m/usr/local/anaconda3/lib/python3.6/site-packages/tensorflow/python/client/session.py\u001b[0m in \u001b[0;36mrun\u001b[0;34m(self, fetches, feed_dict, options, run_metadata)\u001b[0m\n\u001b[1;32m    887\u001b[0m     \u001b[0;32mtry\u001b[0m\u001b[0;34m:\u001b[0m\u001b[0;34m\u001b[0m\u001b[0m\n\u001b[1;32m    888\u001b[0m       result = self._run(None, fetches, feed_dict, options_ptr,\n\u001b[0;32m--> 889\u001b[0;31m                          run_metadata_ptr)\n\u001b[0m\u001b[1;32m    890\u001b[0m       \u001b[0;32mif\u001b[0m \u001b[0mrun_metadata\u001b[0m\u001b[0;34m:\u001b[0m\u001b[0;34m\u001b[0m\u001b[0m\n\u001b[1;32m    891\u001b[0m         \u001b[0mproto_data\u001b[0m \u001b[0;34m=\u001b[0m \u001b[0mtf_session\u001b[0m\u001b[0;34m.\u001b[0m\u001b[0mTF_GetBuffer\u001b[0m\u001b[0;34m(\u001b[0m\u001b[0mrun_metadata_ptr\u001b[0m\u001b[0;34m)\u001b[0m\u001b[0;34m\u001b[0m\u001b[0m\n",
      "\u001b[0;32m/usr/local/anaconda3/lib/python3.6/site-packages/tensorflow/python/client/session.py\u001b[0m in \u001b[0;36m_run\u001b[0;34m(self, handle, fetches, feed_dict, options, run_metadata)\u001b[0m\n\u001b[1;32m   1118\u001b[0m     \u001b[0;32mif\u001b[0m \u001b[0mfinal_fetches\u001b[0m \u001b[0;32mor\u001b[0m \u001b[0mfinal_targets\u001b[0m \u001b[0;32mor\u001b[0m \u001b[0;34m(\u001b[0m\u001b[0mhandle\u001b[0m \u001b[0;32mand\u001b[0m \u001b[0mfeed_dict_tensor\u001b[0m\u001b[0;34m)\u001b[0m\u001b[0;34m:\u001b[0m\u001b[0;34m\u001b[0m\u001b[0m\n\u001b[1;32m   1119\u001b[0m       results = self._do_run(handle, final_targets, final_fetches,\n\u001b[0;32m-> 1120\u001b[0;31m                              feed_dict_tensor, options, run_metadata)\n\u001b[0m\u001b[1;32m   1121\u001b[0m     \u001b[0;32melse\u001b[0m\u001b[0;34m:\u001b[0m\u001b[0;34m\u001b[0m\u001b[0m\n\u001b[1;32m   1122\u001b[0m       \u001b[0mresults\u001b[0m \u001b[0;34m=\u001b[0m \u001b[0;34m[\u001b[0m\u001b[0;34m]\u001b[0m\u001b[0;34m\u001b[0m\u001b[0m\n",
      "\u001b[0;32m/usr/local/anaconda3/lib/python3.6/site-packages/tensorflow/python/client/session.py\u001b[0m in \u001b[0;36m_do_run\u001b[0;34m(self, handle, target_list, fetch_list, feed_dict, options, run_metadata)\u001b[0m\n\u001b[1;32m   1315\u001b[0m     \u001b[0;32mif\u001b[0m \u001b[0mhandle\u001b[0m \u001b[0;32mis\u001b[0m \u001b[0;32mNone\u001b[0m\u001b[0;34m:\u001b[0m\u001b[0;34m\u001b[0m\u001b[0m\n\u001b[1;32m   1316\u001b[0m       return self._do_call(_run_fn, self._session, feeds, fetches, targets,\n\u001b[0;32m-> 1317\u001b[0;31m                            options, run_metadata)\n\u001b[0m\u001b[1;32m   1318\u001b[0m     \u001b[0;32melse\u001b[0m\u001b[0;34m:\u001b[0m\u001b[0;34m\u001b[0m\u001b[0m\n\u001b[1;32m   1319\u001b[0m       \u001b[0;32mreturn\u001b[0m \u001b[0mself\u001b[0m\u001b[0;34m.\u001b[0m\u001b[0m_do_call\u001b[0m\u001b[0;34m(\u001b[0m\u001b[0m_prun_fn\u001b[0m\u001b[0;34m,\u001b[0m \u001b[0mself\u001b[0m\u001b[0;34m.\u001b[0m\u001b[0m_session\u001b[0m\u001b[0;34m,\u001b[0m \u001b[0mhandle\u001b[0m\u001b[0;34m,\u001b[0m \u001b[0mfeeds\u001b[0m\u001b[0;34m,\u001b[0m \u001b[0mfetches\u001b[0m\u001b[0;34m)\u001b[0m\u001b[0;34m\u001b[0m\u001b[0m\n",
      "\u001b[0;32m/usr/local/anaconda3/lib/python3.6/site-packages/tensorflow/python/client/session.py\u001b[0m in \u001b[0;36m_do_call\u001b[0;34m(self, fn, *args)\u001b[0m\n\u001b[1;32m   1321\u001b[0m   \u001b[0;32mdef\u001b[0m \u001b[0m_do_call\u001b[0m\u001b[0;34m(\u001b[0m\u001b[0mself\u001b[0m\u001b[0;34m,\u001b[0m \u001b[0mfn\u001b[0m\u001b[0;34m,\u001b[0m \u001b[0;34m*\u001b[0m\u001b[0margs\u001b[0m\u001b[0;34m)\u001b[0m\u001b[0;34m:\u001b[0m\u001b[0;34m\u001b[0m\u001b[0m\n\u001b[1;32m   1322\u001b[0m     \u001b[0;32mtry\u001b[0m\u001b[0;34m:\u001b[0m\u001b[0;34m\u001b[0m\u001b[0m\n\u001b[0;32m-> 1323\u001b[0;31m       \u001b[0;32mreturn\u001b[0m \u001b[0mfn\u001b[0m\u001b[0;34m(\u001b[0m\u001b[0;34m*\u001b[0m\u001b[0margs\u001b[0m\u001b[0;34m)\u001b[0m\u001b[0;34m\u001b[0m\u001b[0m\n\u001b[0m\u001b[1;32m   1324\u001b[0m     \u001b[0;32mexcept\u001b[0m \u001b[0merrors\u001b[0m\u001b[0;34m.\u001b[0m\u001b[0mOpError\u001b[0m \u001b[0;32mas\u001b[0m \u001b[0me\u001b[0m\u001b[0;34m:\u001b[0m\u001b[0;34m\u001b[0m\u001b[0m\n\u001b[1;32m   1325\u001b[0m       \u001b[0mmessage\u001b[0m \u001b[0;34m=\u001b[0m \u001b[0mcompat\u001b[0m\u001b[0;34m.\u001b[0m\u001b[0mas_text\u001b[0m\u001b[0;34m(\u001b[0m\u001b[0me\u001b[0m\u001b[0;34m.\u001b[0m\u001b[0mmessage\u001b[0m\u001b[0;34m)\u001b[0m\u001b[0;34m\u001b[0m\u001b[0m\n",
      "\u001b[0;32m/usr/local/anaconda3/lib/python3.6/site-packages/tensorflow/python/client/session.py\u001b[0m in \u001b[0;36m_run_fn\u001b[0;34m(session, feed_dict, fetch_list, target_list, options, run_metadata)\u001b[0m\n\u001b[1;32m   1300\u001b[0m           return tf_session.TF_Run(session, options,\n\u001b[1;32m   1301\u001b[0m                                    \u001b[0mfeed_dict\u001b[0m\u001b[0;34m,\u001b[0m \u001b[0mfetch_list\u001b[0m\u001b[0;34m,\u001b[0m \u001b[0mtarget_list\u001b[0m\u001b[0;34m,\u001b[0m\u001b[0;34m\u001b[0m\u001b[0m\n\u001b[0;32m-> 1302\u001b[0;31m                                    status, run_metadata)\n\u001b[0m\u001b[1;32m   1303\u001b[0m \u001b[0;34m\u001b[0m\u001b[0m\n\u001b[1;32m   1304\u001b[0m     \u001b[0;32mdef\u001b[0m \u001b[0m_prun_fn\u001b[0m\u001b[0;34m(\u001b[0m\u001b[0msession\u001b[0m\u001b[0;34m,\u001b[0m \u001b[0mhandle\u001b[0m\u001b[0;34m,\u001b[0m \u001b[0mfeed_dict\u001b[0m\u001b[0;34m,\u001b[0m \u001b[0mfetch_list\u001b[0m\u001b[0;34m)\u001b[0m\u001b[0;34m:\u001b[0m\u001b[0;34m\u001b[0m\u001b[0m\n",
      "\u001b[0;31mKeyboardInterrupt\u001b[0m: "
     ]
    }
   ],
   "source": [
    "#model.fit(X_training, Y_training, batch_size=batch_size, epochs=50, validation_data=val_data)\n",
    "\n",
    "model.fit(trainX, trainY, batch_size=batch_size, epochs=200, validation_data=val_data, callbacks=callbacks_list)"
   ]
  },
  {
   "cell_type": "code",
   "execution_count": null,
   "metadata": {
    "collapsed": true
   },
   "outputs": [],
   "source": [
    "from sklearn.metrics import mean_squared_error\n",
    "preds = model.predict(testX)\n",
    "# rmse = np.sqrt(np.mean((np.array(preds) - testY)**2))\n",
    "rmse = np.sqrt(mean_squared_error(preds, testY))\n",
    "print(\"RMSE\", rmse)\n",
    "\n",
    "import matplotlib.pyplot as plt\n",
    "%matplotlib inline\n",
    "plt.plot(preds,'o',color='blue',markersize=2,mew=0.5,mec='blue',markerfacecolor='none')\n",
    "plt.plot(testY,'r',linewidth=1.0)\n",
    "plt.show()"
   ]
  },
  {
   "cell_type": "code",
   "execution_count": null,
   "metadata": {
    "collapsed": true
   },
   "outputs": [],
   "source": [
    "# # Save model\n",
    "model.save('model_lstm_S7_D100.h5')\n",
    "\n",
    "# Load saved model\n",
    "# model = load_model('model_mlp_time_data.h5')"
   ]
  },
  {
   "cell_type": "code",
   "execution_count": null,
   "metadata": {
    "collapsed": true
   },
   "outputs": [],
   "source": [
    "def get_rmse(model, X_testing, Y_testing, time_steps):\n",
    "    preds=[]\n",
    "    for j in range(len(X_testing)-time_steps):\n",
    "        predicted = model.predict(np.reshape(X_testing[j:j+time_steps, :], [1, time_steps, X_testing.shape[1]]))\n",
    "        preds.append(predicted[-1])\n",
    "\n",
    "    Y_tst = Y_testing[time_steps:]\n",
    "    rmse = np.sqrt(np.mean((np.array(preds) - Y_tst)**2))\n",
    "    return rmse"
   ]
  },
  {
   "cell_type": "code",
   "execution_count": null,
   "metadata": {
    "collapsed": true
   },
   "outputs": [],
   "source": [
    "preds=[]\n",
    "for j in range(len(X_testing)-time_steps):\n",
    "    predicted = model.predict(np.reshape(X_testing[j:j+time_steps, :], [1, time_steps, X_testing.shape[1]]))\n",
    "#     predicted = np.reshape(predicted, [10])\n",
    "    preds.append(predicted[-1])\n",
    "    \n",
    "Y_tst = Y_testing[time_steps:]\n",
    "rmse = np.sqrt(np.mean((np.array(preds) - Y_tst)**2))\n",
    "print(rmse)"
   ]
  },
  {
   "cell_type": "code",
   "execution_count": null,
   "metadata": {
    "collapsed": true
   },
   "outputs": [],
   "source": [
    "preds = model.predict(X_testing)"
   ]
  },
  {
   "cell_type": "code",
   "execution_count": null,
   "metadata": {
    "collapsed": true
   },
   "outputs": [],
   "source": [
    "import matplotlib.pyplot as plt\n",
    "%matplotlib inline\n",
    "plt.plot(preds,'o',color='blue',markersize=2,mew=0.5,mec='blue',markerfacecolor='none')\n",
    "plt.plot(Y_testing,'r',linewidth=1.0)\n",
    "plt.show()"
   ]
  },
  {
   "cell_type": "code",
   "execution_count": null,
   "metadata": {
    "collapsed": true
   },
   "outputs": [],
   "source": [
    "from keras.utils import plot_model\n",
    "plot_model(model, to_file='model.png')"
   ]
  },
  {
   "cell_type": "code",
   "execution_count": null,
   "metadata": {
    "collapsed": true
   },
   "outputs": [],
   "source": [
    "# model.save('mlp.h5')"
   ]
  },
  {
   "cell_type": "code",
   "execution_count": null,
   "metadata": {
    "collapsed": true
   },
   "outputs": [],
   "source": [
    "import keras\n",
    "model = keras.models.load_model('mlp.h5')"
   ]
  }
 ],
 "metadata": {
  "kernelspec": {
   "display_name": "Python 3",
   "language": "python",
   "name": "python3"
  },
  "language_info": {
   "codemirror_mode": {
    "name": "ipython",
    "version": 3
   },
   "file_extension": ".py",
   "mimetype": "text/x-python",
   "name": "python",
   "nbconvert_exporter": "python",
   "pygments_lexer": "ipython3",
   "version": "3.6.5"
  }
 },
 "nbformat": 4,
 "nbformat_minor": 2
}
