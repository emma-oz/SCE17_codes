{
 "cells": [
  {
   "cell_type": "code",
   "execution_count": 55,
   "metadata": {},
   "outputs": [],
   "source": [
    "import pickle\n",
    "import numpy as np\n",
    "import matplotlib.pyplot as plt\n",
    "import scipy.misc\n",
    "import keras.backend as K\n",
    "# import xgboost as xgb\n",
    "import os\n",
    "\n",
    "from sklearn.metrics import mean_squared_error\n",
    "from keras.models import Sequential, load_model  \n",
    "from keras.layers.core import Dense, Activation  \n",
    "from keras.layers import Input, Dense, LSTM, Flatten, Dropout, Reshape, GRU,\\\n",
    "                         Conv1D, MaxPooling1D, Convolution1D,\\\n",
    "                         Convolution2D, MaxPooling2D,\\\n",
    "                         Convolution3D, MaxPooling3D\n",
    "from keras.models import Sequential\n",
    "# from keras.layers import Input, Dense, LSTM, Flatten, Reshape\n",
    "from keras.models import Model\n",
    "from keras.preprocessing import sequence\n",
    "# from keras.optimizers import Nadam\n",
    "from keras import optimizers\n",
    "from keras.layers.normalization import BatchNormalization\n",
    "from keras.callbacks import EarlyStopping\n",
    "\n",
    "\n",
    "%matplotlib inline"
   ]
  },
  {
   "cell_type": "code",
   "execution_count": 42,
   "metadata": {},
   "outputs": [],
   "source": [
    "def filter_range(X, Y, limit=15):\n",
    "    resX=[]\n",
    "    resY=[]\n",
    "    for i in range(len(Y)):\n",
    "        if (Y[i]>limit):\n",
    "            continue\n",
    "        resX.append(X[i])\n",
    "        resY.append(Y[i])\n",
    "    resX = np.array(resX)\n",
    "    resY = np.array(resY)\n",
    "    return (resX, resY)"
   ]
  },
  {
   "cell_type": "code",
   "execution_count": 43,
   "metadata": {},
   "outputs": [
    {
     "name": "stdout",
     "output_type": "stream",
     "text": [
      "Train:  15.0 2.94\n",
      "Test:  12.3 3.2\n"
     ]
    }
   ],
   "source": [
    "data_dir = '../data2/f_D100_ush'\n",
    "\n",
    "X_training = np.load(os.path.join(data_dir, \"X_train.npy\"))#\"../data2/X_train_f100.npy\")\n",
    "Y_training = np.load(os.path.join(data_dir, \"Y_train.npy\"))#\"../data2/Y_train_f100.npy\")\n",
    "\n",
    "X_val = np.load(os.path.join(data_dir, \"X_val.npy\"))#\"../data2/X_val_f100.npy\")\n",
    "Y_val = np.load(os.path.join(data_dir, \"Y_val.npy\"))#\"../data2/Y_val_f100.npy\")\n",
    "\n",
    "X_testing = np.load(os.path.join(data_dir, \"X_test.npy\"))#\"../data2/X_test_f100.npy\")\n",
    "Y_testing = np.load(os.path.join(data_dir, \"Y_test.npy\"))#\"../data2/Y_test_f100.npy\")\n",
    "\n",
    "\n",
    "X_training = np.concatenate( (X_training, X_val), axis=0 )\n",
    "Y_training = np.concatenate( (Y_training, Y_val), axis=0 )\n",
    "\n",
    "\n",
    "X_training, Y_training = filter_range(X_training, Y_training)\n",
    "X_val, Y_val = filter_range(X_val, Y_val)\n",
    "X_testing, Y_testing = filter_range(X_testing, Y_testing)\n",
    "\n",
    "\n",
    "print(\"Train: \",np.max(Y_training), np.min(Y_training))\n",
    "print(\"Test: \",np.max(Y_testing), np.min(Y_testing))\n",
    "\n",
    "# Centering and Normalizing data\n",
    "mux = np.mean(X_training, axis=0)\n",
    "stdx = np.std(X_training, axis=0)\n",
    "X_training = (X_training - mux)/stdx\n",
    "X_val = (X_val - mux)/stdx\n",
    "X_testing = (X_testing - mux)/stdx"
   ]
  },
  {
   "cell_type": "code",
   "execution_count": 79,
   "metadata": {},
   "outputs": [],
   "source": [
    "def get_model(data_dim, time_steps):\n",
    "    nb_filters = 200\n",
    "    \n",
    "    ip_shape = (time_steps, data_dim, 1)\n",
    "    inputs = Input(shape = ip_shape)\n",
    "    \n",
    "    conv_1 = Convolution2D(filters = 32, kernel_size = 5, strides=(1,1), padding=\"same\",\n",
    "                    activation='relu', name=\"Conv1\")(inputs)\n",
    "    batch_norm1 = BatchNormalization( name = \"batch_norm_1\")(conv_1)\n",
    "    maxpool_1 = MaxPooling2D(pool_size=(1,7), padding=\"same\", name=\"maxpool1\")(batch_norm1)\n",
    "    \n",
    "    conv_2 = Convolution2D(filters = 16, kernel_size = 5, strides=(1,1), padding=\"same\",\n",
    "                     activation='relu', name=\"Conv2\")(maxpool_1)\n",
    "    batch_norm2 = BatchNormalization( name = \"batch_norm_2\")(conv_2)\n",
    "    maxpool_2 = MaxPooling2D(pool_size=(1,3), padding=\"same\", name=\"maxpool2\")(batch_norm2)\n",
    "    \n",
    "    conv_3 = Convolution2D(filters = 1, kernel_size = (1,3), strides=(1,1), padding=\"same\",\n",
    "                     activation='relu', name=\"Conv3\")(batch_norm2)\n",
    "    batch_norm3 = BatchNormalization( name = \"batch_norm_3\")(conv_3)\n",
    "    maxpool_3 = MaxPooling2D(pool_size=(1,1), padding=\"same\", name=\"maxpool3\")(batch_norm3)\n",
    "    layer_shape = maxpool_3._keras_shape\n",
    "    maxpool_3 = Reshape(target_shape=(layer_shape[1], layer_shape[2]*layer_shape[3]),\n",
    "                        name=\"maxpool3_RS\")(maxpool_3)\n",
    "    \n",
    "#     flatten = Flatten()(maxpool_3)\n",
    "    \n",
    "    lstm_1 = LSTM(32, return_sequences=True, name=\"lstm_1\")(maxpool_3)\n",
    "#     lstm_2 = LSTM(128, return_sequences=\"True\", name=\"lstm_2\")(lstm_1)\n",
    "    \n",
    "    flatten = Flatten()(lstm_1)\n",
    "    \n",
    "    \n",
    "#     lstm_1 = GRU(32)(maxpool_3)\n",
    "    \n",
    "    dense_1 = Dense(64, activation='relu', name=\"Dense1\")(flatten)\n",
    "    batch_norm4 = BatchNormalization( name = \"batch_norm_4\")(dense_1)\n",
    "    dropout_1 = Dropout(0.4, name=\"dropout_1\")(batch_norm4)\n",
    "    \n",
    "    dense_2 = Dense(32, activation='relu', name=\"Dense2\")(dropout_1)\n",
    "    batch_norm5 = BatchNormalization( name = \"batch_norm_5\")(dense_2)\n",
    "    dropout_2 = Dropout(0.4, name=\"dropout_2\")(batch_norm5)\n",
    "    \n",
    "    output = Dense(1, name=\"output\")(dropout_1)\n",
    "    model = Model(inputs = inputs, output = output)\n",
    "    \n",
    "    return model"
   ]
  },
  {
   "cell_type": "code",
   "execution_count": 80,
   "metadata": {},
   "outputs": [
    {
     "name": "stdout",
     "output_type": "stream",
     "text": [
      "_________________________________________________________________\n",
      "Layer (type)                 Output Shape              Param #   \n",
      "=================================================================\n",
      "input_36 (InputLayer)        (None, 20, 100, 1)        0         \n",
      "_________________________________________________________________\n",
      "Conv1 (Conv2D)               (None, 20, 100, 32)       832       \n",
      "_________________________________________________________________\n",
      "batch_norm_1 (BatchNormaliza (None, 20, 100, 32)       128       \n",
      "_________________________________________________________________\n",
      "maxpool1 (MaxPooling2D)      (None, 20, 15, 32)        0         \n",
      "_________________________________________________________________\n",
      "Conv2 (Conv2D)               (None, 20, 15, 16)        12816     \n",
      "_________________________________________________________________\n",
      "batch_norm_2 (BatchNormaliza (None, 20, 15, 16)        64        \n",
      "_________________________________________________________________\n",
      "Conv3 (Conv2D)               (None, 20, 15, 1)         49        \n",
      "_________________________________________________________________\n",
      "batch_norm_3 (BatchNormaliza (None, 20, 15, 1)         4         \n",
      "_________________________________________________________________\n",
      "maxpool3 (MaxPooling2D)      (None, 20, 15, 1)         0         \n",
      "_________________________________________________________________\n",
      "maxpool3_RS (Reshape)        (None, 20, 15)            0         \n",
      "_________________________________________________________________\n",
      "lstm_1 (LSTM)                (None, 20, 32)            6144      \n",
      "_________________________________________________________________\n",
      "flatten_12 (Flatten)         (None, 640)               0         \n",
      "_________________________________________________________________\n",
      "Dense1 (Dense)               (None, 64)                41024     \n",
      "_________________________________________________________________\n",
      "batch_norm_4 (BatchNormaliza (None, 64)                256       \n",
      "_________________________________________________________________\n",
      "dropout_1 (Dropout)          (None, 64)                0         \n",
      "_________________________________________________________________\n",
      "output (Dense)               (None, 1)                 65        \n",
      "=================================================================\n",
      "Total params: 61,382\n",
      "Trainable params: 61,156\n",
      "Non-trainable params: 226\n",
      "_________________________________________________________________\n"
     ]
    },
    {
     "name": "stderr",
     "output_type": "stream",
     "text": [
      "C:\\Users\\aksha\\Anaconda3\\envs\\tensorflow\\lib\\site-packages\\ipykernel_launcher.py:44: UserWarning: Update your `Model` call to the Keras 2 API: `Model(inputs=Tensor(\"in..., outputs=Tensor(\"ou...)`\n"
     ]
    }
   ],
   "source": [
    "data_dim = X_training.shape[1]\n",
    "time_steps = 20\n",
    "x=get_model(data_dim, time_steps)\n",
    "x.compile(optimizer=\"Adam\", loss=\"mean_squared_error\")\n",
    "x.summary()"
   ]
  },
  {
   "cell_type": "code",
   "execution_count": 44,
   "metadata": {},
   "outputs": [],
   "source": [
    "def create_dataset(X, Y, time_steps=1):\n",
    "    dataX, dataY = [], []\n",
    "    for i in range(len(X)-time_steps-1):\n",
    "        a = X[i:(i+time_steps)]\n",
    "        dataX.append(a)\n",
    "        a = Y[(i+time_steps)]\n",
    "        dataY.append(a)  #dataset[i + look_back, 0])\n",
    "    return np.array(dataX), np.array(dataY)"
   ]
  },
  {
   "cell_type": "code",
   "execution_count": 45,
   "metadata": {},
   "outputs": [],
   "source": [
    "time_steps = \n",
    "trainX, trainY = create_dataset(X_training, Y_training, time_steps)\n",
    "valX, valY = create_dataset(X_val, Y_val, time_steps)\n",
    "testX, testY = create_dataset(X_testing, Y_testing, time_steps)"
   ]
  },
  {
   "cell_type": "code",
   "execution_count": 8,
   "metadata": {},
   "outputs": [
    {
     "name": "stdout",
     "output_type": "stream",
     "text": [
      "(8050, 100) (8050,)\n",
      "(8039, 10, 100) (8039,)\n",
      "(1303, 10, 100) (1303,)\n",
      "(7935, 10, 100) (7935,)\n"
     ]
    }
   ],
   "source": [
    "print(X_training.shape, Y_training.shape)\n",
    "print(trainX.shape, trainY.shape)\n",
    "print(testX.shape, testY.shape)\n",
    "print(valX.shape, valY.shape)"
   ]
  },
  {
   "cell_type": "code",
   "execution_count": 81,
   "metadata": {
    "scrolled": true
   },
   "outputs": [
    {
     "name": "stderr",
     "output_type": "stream",
     "text": [
      "C:\\Users\\aksha\\Anaconda3\\envs\\tensorflow\\lib\\site-packages\\ipykernel_launcher.py:44: UserWarning: Update your `Model` call to the Keras 2 API: `Model(inputs=Tensor(\"in..., outputs=Tensor(\"ou...)`\n"
     ]
    },
    {
     "name": "stdout",
     "output_type": "stream",
     "text": [
      "Train on 27628 samples, validate on 1752 samples\n",
      "Epoch 1/100\n",
      "27628/27628 [==============================] - 23s 834us/step - loss: 10.0795 - val_loss: 6.9168\n",
      "Epoch 2/100\n",
      "27628/27628 [==============================] - 14s 499us/step - loss: 9.7490 - val_loss: 5.7668\n",
      "Epoch 3/100\n",
      "27628/27628 [==============================] - 14s 517us/step - loss: 9.3327 - val_loss: 5.8670\n",
      "Epoch 4/100\n",
      "27628/27628 [==============================] - 14s 510us/step - loss: 8.7539 - val_loss: 4.5243\n",
      "Epoch 5/100\n",
      "27628/27628 [==============================] - 14s 507us/step - loss: 8.0315 - val_loss: 2.6751\n",
      "Epoch 6/100\n",
      "27628/27628 [==============================] - 14s 504us/step - loss: 7.1348 - val_loss: 4.6227\n",
      "Epoch 7/100\n",
      "27628/27628 [==============================] - 14s 506us/step - loss: 6.0932 - val_loss: 2.0118\n",
      "Epoch 8/100\n",
      "27628/27628 [==============================] - 14s 522us/step - loss: 4.9482 - val_loss: 1.0120\n",
      "Epoch 9/100\n",
      "27628/27628 [==============================] - 14s 508us/step - loss: 3.8105 - val_loss: 1.0337\n",
      "Epoch 10/100\n",
      "27628/27628 [==============================] - 15s 537us/step - loss: 2.8904 - val_loss: 1.2475\n",
      "Epoch 11/100\n",
      "27628/27628 [==============================] - 15s 536us/step - loss: 2.2398 - val_loss: 1.4455\n",
      "Epoch 12/100\n",
      "27628/27628 [==============================] - 15s 538us/step - loss: 1.8520 - val_loss: 3.1396\n",
      "Epoch 13/100\n",
      "27628/27628 [==============================] - 15s 535us/step - loss: 1.6546 - val_loss: 1.4102\n",
      "Epoch 14/100\n",
      "27628/27628 [==============================] - 15s 542us/step - loss: 1.5356 - val_loss: 2.3749\n",
      "Epoch 15/100\n",
      "27628/27628 [==============================] - 15s 531us/step - loss: 1.4693 - val_loss: 2.4891\n",
      "Epoch 16/100\n",
      "27628/27628 [==============================] - 14s 512us/step - loss: 1.3994 - val_loss: 2.4352\n",
      "Epoch 17/100\n",
      "27628/27628 [==============================] - 14s 515us/step - loss: 1.3455 - val_loss: 2.9483\n",
      "Epoch 18/100\n",
      "27628/27628 [==============================] - 14s 510us/step - loss: 1.3048 - val_loss: 2.2127\n",
      "Epoch 19/100\n",
      "27628/27628 [==============================] - 14s 509us/step - loss: 1.2774 - val_loss: 3.2581\n",
      "Epoch 20/100\n",
      "27628/27628 [==============================] - 14s 512us/step - loss: 1.2417 - val_loss: 2.9345\n",
      "Epoch 21/100\n",
      "27628/27628 [==============================] - 14s 511us/step - loss: 1.2326 - val_loss: 2.0733\n",
      "Epoch 22/100\n",
      "27628/27628 [==============================] - 14s 515us/step - loss: 1.1952 - val_loss: 2.7586\n",
      "Epoch 23/100\n",
      "27628/27628 [==============================] - 14s 510us/step - loss: 1.1774 - val_loss: 3.5026\n",
      "Epoch 24/100\n",
      "27628/27628 [==============================] - 14s 512us/step - loss: 1.1547 - val_loss: 2.8274\n",
      "Epoch 25/100\n",
      "27628/27628 [==============================] - 14s 514us/step - loss: 1.1475 - val_loss: 2.9279\n",
      "Epoch 26/100\n",
      "27628/27628 [==============================] - 14s 514us/step - loss: 1.1239 - val_loss: 2.5966\n",
      "Epoch 27/100\n",
      "27628/27628 [==============================] - 14s 516us/step - loss: 1.1330 - val_loss: 2.6613\n",
      "Epoch 28/100\n",
      "27628/27628 [==============================] - 14s 517us/step - loss: 1.1095 - val_loss: 2.2432\n",
      "Epoch 00028: early stopping\n",
      "Time Steps: 20 \tTest RMSE: 3.46346695922699 \tTest  MRE: 38.482966213633226 %\n"
     ]
    }
   ],
   "source": [
    "n_epochs = 50\n",
    "data_dim = X_training.shape[1]\n",
    "batch_size = 100\n",
    "L=len(X_training)\n",
    "n_Iter = int(L/batch_size)\n",
    "# results = {}\n",
    "\n",
    "T_range = [20]#[1, 2, 5, 10, 15, 20, 30, 50, 75, 100]\n",
    "for time_steps in T_range:\n",
    "    trainX, trainY = create_dataset(X_training, Y_training, time_steps)\n",
    "    valX, valY = create_dataset(X_val, Y_val, time_steps)\n",
    "    testX, testY = create_dataset(X_testing, Y_testing, time_steps)\n",
    "\n",
    "    optimizer = optimizers.Nadam(lr=1e-4)#, beta_1=0.9, beta_2=0.999, epsilon=1e-08)#, schedule_decay=0.004)\n",
    "    model = get_model(data_dim, time_steps)\n",
    "    model.compile(loss=\"logcosh\", optimizer=optimizer)\n",
    "    earlystop = EarlyStopping(monitor='val_loss', min_delta=0.0001, patience=20,\n",
    "                              verbose=1, mode='auto')\n",
    "    callbacks_list = [earlystop]\n",
    "    trainX = np.reshape(trainX, (trainX.shape[0], trainX.shape[1], trainX.shape[2], 1))\n",
    "    valX = np.reshape(valX, (valX.shape[0], valX.shape[1], valX.shape[2], 1))\n",
    "    testX = np.reshape(testX, (testX.shape[0], testX.shape[1], testX.shape[2], 1))\n",
    "    \n",
    "    model.fit(x=trainX, y=trainY, batch_size=batch_size, epochs=100,\n",
    "          validation_data=(testX, testY),\n",
    "          callbacks=callbacks_list)\n",
    "    \n",
    "    preds = model.predict(testX)\n",
    "    rmse = np.sqrt(mean_squared_error(preds, testY))\n",
    "    mre = rmse*100.0/(np.max(testY) - np.min(testY))\n",
    "    print(\"Time Steps:\", time_steps, \"\\tTest RMSE:\", rmse, \"\\tTest  MRE:\", mre,\"%\" )\n",
    "    results[time_steps] = {\"RMSE\": rmse,\n",
    "                           \"MRE\": mre}\n",
    "    \n",
    "    \n",
    "    # val_data = (np.reshape(X_val, (X_val.shape[0], X_val.shape[1], 1)), Y_val)\n",
    "    # Y_train = np.reshape( Y_training, (L, 1, 1) )\n",
    "    # X_train = np.reshape( X_training, (L, X_training.shape[1], 1) )"
   ]
  },
  {
   "cell_type": "code",
   "execution_count": 57,
   "metadata": {
    "scrolled": true
   },
   "outputs": [
    {
     "name": "stdout",
     "output_type": "stream",
     "text": [
      "Train on 27628 samples, validate on 1752 samples\n",
      "Epoch 1/50\n",
      "27628/27628 [==============================] - 14s 491us/step - loss: 1.4605 - val_loss: 2.1536\n",
      "Epoch 2/50\n",
      "27628/27628 [==============================] - 13s 484us/step - loss: 1.4338 - val_loss: 2.4665\n",
      "Epoch 3/50\n",
      "27628/27628 [==============================] - 13s 487us/step - loss: 1.4166 - val_loss: 2.1132\n",
      "Epoch 4/50\n",
      "27628/27628 [==============================] - 13s 481us/step - loss: 1.3958 - val_loss: 1.9191\n",
      "Epoch 5/50\n",
      "27628/27628 [==============================] - 12s 445us/step - loss: 1.3826 - val_loss: 2.3389\n",
      "Epoch 6/50\n",
      "27628/27628 [==============================] - 12s 444us/step - loss: 1.3712 - val_loss: 2.8203\n",
      "Epoch 7/50\n",
      "27628/27628 [==============================] - 12s 452us/step - loss: 1.3668 - val_loss: 2.8028\n",
      "Epoch 8/50\n",
      "27628/27628 [==============================] - 13s 460us/step - loss: 1.3520 - val_loss: 2.8981\n",
      "Epoch 9/50\n",
      "27628/27628 [==============================] - 13s 466us/step - loss: 1.3226 - val_loss: 2.3867\n",
      "Epoch 10/50\n",
      "27628/27628 [==============================] - 13s 470us/step - loss: 1.3151 - val_loss: 2.5174\n",
      "Epoch 11/50\n",
      "27628/27628 [==============================] - 13s 462us/step - loss: 1.3085 - val_loss: 2.8474\n",
      "Epoch 12/50\n",
      "27628/27628 [==============================] - 12s 452us/step - loss: 1.3089 - val_loss: 2.1420\n",
      "Epoch 13/50\n",
      "27628/27628 [==============================] - 13s 453us/step - loss: 1.2845 - val_loss: 2.2365\n",
      "Epoch 14/50\n",
      "27628/27628 [==============================] - 13s 454us/step - loss: 1.2823 - val_loss: 2.6310\n",
      "Epoch 15/50\n",
      "27628/27628 [==============================] - 13s 460us/step - loss: 1.2745 - val_loss: 2.4894\n",
      "Epoch 16/50\n",
      "27628/27628 [==============================] - 13s 484us/step - loss: 1.2610 - val_loss: 2.4839\n",
      "Epoch 17/50\n",
      "  100/27628 [..............................] - ETA: 12s - loss: 1.4293"
     ]
    },
    {
     "ename": "KeyboardInterrupt",
     "evalue": "",
     "output_type": "error",
     "traceback": [
      "\u001b[1;31m---------------------------------------------------------------------------\u001b[0m",
      "\u001b[1;31mKeyboardInterrupt\u001b[0m                         Traceback (most recent call last)",
      "\u001b[1;32m<ipython-input-57-0506845c3cd0>\u001b[0m in \u001b[0;36m<module>\u001b[1;34m()\u001b[0m\n\u001b[0;32m      1\u001b[0m model.fit(x=trainX, y=trainY, batch_size=batch_size, epochs=50,\n\u001b[0;32m      2\u001b[0m \u001b[1;31m#           validation_split=0.3,\u001b[0m\u001b[1;33m\u001b[0m\u001b[1;33m\u001b[0m\u001b[0m\n\u001b[1;32m----> 3\u001b[1;33m           validation_data=(testX, testY)),\n\u001b[0m\u001b[0;32m      4\u001b[0m \u001b[1;31m#           callbacks=callbacks_list)\u001b[0m\u001b[1;33m\u001b[0m\u001b[1;33m\u001b[0m\u001b[0m\n",
      "\u001b[1;32m~\\Anaconda3\\envs\\tensorflow\\lib\\site-packages\\keras\\engine\\training.py\u001b[0m in \u001b[0;36mfit\u001b[1;34m(self, x, y, batch_size, epochs, verbose, callbacks, validation_split, validation_data, shuffle, class_weight, sample_weight, initial_epoch, steps_per_epoch, validation_steps, **kwargs)\u001b[0m\n\u001b[0;32m   1703\u001b[0m                               \u001b[0minitial_epoch\u001b[0m\u001b[1;33m=\u001b[0m\u001b[0minitial_epoch\u001b[0m\u001b[1;33m,\u001b[0m\u001b[1;33m\u001b[0m\u001b[0m\n\u001b[0;32m   1704\u001b[0m                               \u001b[0msteps_per_epoch\u001b[0m\u001b[1;33m=\u001b[0m\u001b[0msteps_per_epoch\u001b[0m\u001b[1;33m,\u001b[0m\u001b[1;33m\u001b[0m\u001b[0m\n\u001b[1;32m-> 1705\u001b[1;33m                               validation_steps=validation_steps)\n\u001b[0m\u001b[0;32m   1706\u001b[0m \u001b[1;33m\u001b[0m\u001b[0m\n\u001b[0;32m   1707\u001b[0m     def evaluate(self, x=None, y=None,\n",
      "\u001b[1;32m~\\Anaconda3\\envs\\tensorflow\\lib\\site-packages\\keras\\engine\\training.py\u001b[0m in \u001b[0;36m_fit_loop\u001b[1;34m(self, f, ins, out_labels, batch_size, epochs, verbose, callbacks, val_f, val_ins, shuffle, callback_metrics, initial_epoch, steps_per_epoch, validation_steps)\u001b[0m\n\u001b[0;32m   1234\u001b[0m                         \u001b[0mins_batch\u001b[0m\u001b[1;33m[\u001b[0m\u001b[0mi\u001b[0m\u001b[1;33m]\u001b[0m \u001b[1;33m=\u001b[0m \u001b[0mins_batch\u001b[0m\u001b[1;33m[\u001b[0m\u001b[0mi\u001b[0m\u001b[1;33m]\u001b[0m\u001b[1;33m.\u001b[0m\u001b[0mtoarray\u001b[0m\u001b[1;33m(\u001b[0m\u001b[1;33m)\u001b[0m\u001b[1;33m\u001b[0m\u001b[0m\n\u001b[0;32m   1235\u001b[0m \u001b[1;33m\u001b[0m\u001b[0m\n\u001b[1;32m-> 1236\u001b[1;33m                     \u001b[0mouts\u001b[0m \u001b[1;33m=\u001b[0m \u001b[0mf\u001b[0m\u001b[1;33m(\u001b[0m\u001b[0mins_batch\u001b[0m\u001b[1;33m)\u001b[0m\u001b[1;33m\u001b[0m\u001b[0m\n\u001b[0m\u001b[0;32m   1237\u001b[0m                     \u001b[1;32mif\u001b[0m \u001b[1;32mnot\u001b[0m \u001b[0misinstance\u001b[0m\u001b[1;33m(\u001b[0m\u001b[0mouts\u001b[0m\u001b[1;33m,\u001b[0m \u001b[0mlist\u001b[0m\u001b[1;33m)\u001b[0m\u001b[1;33m:\u001b[0m\u001b[1;33m\u001b[0m\u001b[0m\n\u001b[0;32m   1238\u001b[0m                         \u001b[0mouts\u001b[0m \u001b[1;33m=\u001b[0m \u001b[1;33m[\u001b[0m\u001b[0mouts\u001b[0m\u001b[1;33m]\u001b[0m\u001b[1;33m\u001b[0m\u001b[0m\n",
      "\u001b[1;32m~\\Anaconda3\\envs\\tensorflow\\lib\\site-packages\\keras\\backend\\tensorflow_backend.py\u001b[0m in \u001b[0;36m__call__\u001b[1;34m(self, inputs)\u001b[0m\n\u001b[0;32m   2480\u001b[0m         \u001b[0msession\u001b[0m \u001b[1;33m=\u001b[0m \u001b[0mget_session\u001b[0m\u001b[1;33m(\u001b[0m\u001b[1;33m)\u001b[0m\u001b[1;33m\u001b[0m\u001b[0m\n\u001b[0;32m   2481\u001b[0m         updated = session.run(fetches=fetches, feed_dict=feed_dict,\n\u001b[1;32m-> 2482\u001b[1;33m                               **self.session_kwargs)\n\u001b[0m\u001b[0;32m   2483\u001b[0m         \u001b[1;32mreturn\u001b[0m \u001b[0mupdated\u001b[0m\u001b[1;33m[\u001b[0m\u001b[1;33m:\u001b[0m\u001b[0mlen\u001b[0m\u001b[1;33m(\u001b[0m\u001b[0mself\u001b[0m\u001b[1;33m.\u001b[0m\u001b[0moutputs\u001b[0m\u001b[1;33m)\u001b[0m\u001b[1;33m]\u001b[0m\u001b[1;33m\u001b[0m\u001b[0m\n\u001b[0;32m   2484\u001b[0m \u001b[1;33m\u001b[0m\u001b[0m\n",
      "\u001b[1;32m~\\Anaconda3\\envs\\tensorflow\\lib\\site-packages\\tensorflow\\python\\client\\session.py\u001b[0m in \u001b[0;36mrun\u001b[1;34m(self, fetches, feed_dict, options, run_metadata)\u001b[0m\n\u001b[0;32m    898\u001b[0m     \u001b[1;32mtry\u001b[0m\u001b[1;33m:\u001b[0m\u001b[1;33m\u001b[0m\u001b[0m\n\u001b[0;32m    899\u001b[0m       result = self._run(None, fetches, feed_dict, options_ptr,\n\u001b[1;32m--> 900\u001b[1;33m                          run_metadata_ptr)\n\u001b[0m\u001b[0;32m    901\u001b[0m       \u001b[1;32mif\u001b[0m \u001b[0mrun_metadata\u001b[0m\u001b[1;33m:\u001b[0m\u001b[1;33m\u001b[0m\u001b[0m\n\u001b[0;32m    902\u001b[0m         \u001b[0mproto_data\u001b[0m \u001b[1;33m=\u001b[0m \u001b[0mtf_session\u001b[0m\u001b[1;33m.\u001b[0m\u001b[0mTF_GetBuffer\u001b[0m\u001b[1;33m(\u001b[0m\u001b[0mrun_metadata_ptr\u001b[0m\u001b[1;33m)\u001b[0m\u001b[1;33m\u001b[0m\u001b[0m\n",
      "\u001b[1;32m~\\Anaconda3\\envs\\tensorflow\\lib\\site-packages\\tensorflow\\python\\client\\session.py\u001b[0m in \u001b[0;36m_run\u001b[1;34m(self, handle, fetches, feed_dict, options, run_metadata)\u001b[0m\n\u001b[0;32m   1133\u001b[0m     \u001b[1;32mif\u001b[0m \u001b[0mfinal_fetches\u001b[0m \u001b[1;32mor\u001b[0m \u001b[0mfinal_targets\u001b[0m \u001b[1;32mor\u001b[0m \u001b[1;33m(\u001b[0m\u001b[0mhandle\u001b[0m \u001b[1;32mand\u001b[0m \u001b[0mfeed_dict_tensor\u001b[0m\u001b[1;33m)\u001b[0m\u001b[1;33m:\u001b[0m\u001b[1;33m\u001b[0m\u001b[0m\n\u001b[0;32m   1134\u001b[0m       results = self._do_run(handle, final_targets, final_fetches,\n\u001b[1;32m-> 1135\u001b[1;33m                              feed_dict_tensor, options, run_metadata)\n\u001b[0m\u001b[0;32m   1136\u001b[0m     \u001b[1;32melse\u001b[0m\u001b[1;33m:\u001b[0m\u001b[1;33m\u001b[0m\u001b[0m\n\u001b[0;32m   1137\u001b[0m       \u001b[0mresults\u001b[0m \u001b[1;33m=\u001b[0m \u001b[1;33m[\u001b[0m\u001b[1;33m]\u001b[0m\u001b[1;33m\u001b[0m\u001b[0m\n",
      "\u001b[1;32m~\\Anaconda3\\envs\\tensorflow\\lib\\site-packages\\tensorflow\\python\\client\\session.py\u001b[0m in \u001b[0;36m_do_run\u001b[1;34m(self, handle, target_list, fetch_list, feed_dict, options, run_metadata)\u001b[0m\n\u001b[0;32m   1314\u001b[0m     \u001b[1;32mif\u001b[0m \u001b[0mhandle\u001b[0m \u001b[1;32mis\u001b[0m \u001b[1;32mNone\u001b[0m\u001b[1;33m:\u001b[0m\u001b[1;33m\u001b[0m\u001b[0m\n\u001b[0;32m   1315\u001b[0m       return self._do_call(_run_fn, feeds, fetches, targets, options,\n\u001b[1;32m-> 1316\u001b[1;33m                            run_metadata)\n\u001b[0m\u001b[0;32m   1317\u001b[0m     \u001b[1;32melse\u001b[0m\u001b[1;33m:\u001b[0m\u001b[1;33m\u001b[0m\u001b[0m\n\u001b[0;32m   1318\u001b[0m       \u001b[1;32mreturn\u001b[0m \u001b[0mself\u001b[0m\u001b[1;33m.\u001b[0m\u001b[0m_do_call\u001b[0m\u001b[1;33m(\u001b[0m\u001b[0m_prun_fn\u001b[0m\u001b[1;33m,\u001b[0m \u001b[0mhandle\u001b[0m\u001b[1;33m,\u001b[0m \u001b[0mfeeds\u001b[0m\u001b[1;33m,\u001b[0m \u001b[0mfetches\u001b[0m\u001b[1;33m)\u001b[0m\u001b[1;33m\u001b[0m\u001b[0m\n",
      "\u001b[1;32m~\\Anaconda3\\envs\\tensorflow\\lib\\site-packages\\tensorflow\\python\\client\\session.py\u001b[0m in \u001b[0;36m_do_call\u001b[1;34m(self, fn, *args)\u001b[0m\n\u001b[0;32m   1320\u001b[0m   \u001b[1;32mdef\u001b[0m \u001b[0m_do_call\u001b[0m\u001b[1;33m(\u001b[0m\u001b[0mself\u001b[0m\u001b[1;33m,\u001b[0m \u001b[0mfn\u001b[0m\u001b[1;33m,\u001b[0m \u001b[1;33m*\u001b[0m\u001b[0margs\u001b[0m\u001b[1;33m)\u001b[0m\u001b[1;33m:\u001b[0m\u001b[1;33m\u001b[0m\u001b[0m\n\u001b[0;32m   1321\u001b[0m     \u001b[1;32mtry\u001b[0m\u001b[1;33m:\u001b[0m\u001b[1;33m\u001b[0m\u001b[0m\n\u001b[1;32m-> 1322\u001b[1;33m       \u001b[1;32mreturn\u001b[0m \u001b[0mfn\u001b[0m\u001b[1;33m(\u001b[0m\u001b[1;33m*\u001b[0m\u001b[0margs\u001b[0m\u001b[1;33m)\u001b[0m\u001b[1;33m\u001b[0m\u001b[0m\n\u001b[0m\u001b[0;32m   1323\u001b[0m     \u001b[1;32mexcept\u001b[0m \u001b[0merrors\u001b[0m\u001b[1;33m.\u001b[0m\u001b[0mOpError\u001b[0m \u001b[1;32mas\u001b[0m \u001b[0me\u001b[0m\u001b[1;33m:\u001b[0m\u001b[1;33m\u001b[0m\u001b[0m\n\u001b[0;32m   1324\u001b[0m       \u001b[0mmessage\u001b[0m \u001b[1;33m=\u001b[0m \u001b[0mcompat\u001b[0m\u001b[1;33m.\u001b[0m\u001b[0mas_text\u001b[0m\u001b[1;33m(\u001b[0m\u001b[0me\u001b[0m\u001b[1;33m.\u001b[0m\u001b[0mmessage\u001b[0m\u001b[1;33m)\u001b[0m\u001b[1;33m\u001b[0m\u001b[0m\n",
      "\u001b[1;32m~\\Anaconda3\\envs\\tensorflow\\lib\\site-packages\\tensorflow\\python\\client\\session.py\u001b[0m in \u001b[0;36m_run_fn\u001b[1;34m(feed_dict, fetch_list, target_list, options, run_metadata)\u001b[0m\n\u001b[0;32m   1305\u001b[0m       \u001b[0mself\u001b[0m\u001b[1;33m.\u001b[0m\u001b[0m_extend_graph\u001b[0m\u001b[1;33m(\u001b[0m\u001b[1;33m)\u001b[0m\u001b[1;33m\u001b[0m\u001b[0m\n\u001b[0;32m   1306\u001b[0m       return self._call_tf_sessionrun(\n\u001b[1;32m-> 1307\u001b[1;33m           options, feed_dict, fetch_list, target_list, run_metadata)\n\u001b[0m\u001b[0;32m   1308\u001b[0m \u001b[1;33m\u001b[0m\u001b[0m\n\u001b[0;32m   1309\u001b[0m     \u001b[1;32mdef\u001b[0m \u001b[0m_prun_fn\u001b[0m\u001b[1;33m(\u001b[0m\u001b[0mhandle\u001b[0m\u001b[1;33m,\u001b[0m \u001b[0mfeed_dict\u001b[0m\u001b[1;33m,\u001b[0m \u001b[0mfetch_list\u001b[0m\u001b[1;33m)\u001b[0m\u001b[1;33m:\u001b[0m\u001b[1;33m\u001b[0m\u001b[0m\n",
      "\u001b[1;32m~\\Anaconda3\\envs\\tensorflow\\lib\\site-packages\\tensorflow\\python\\client\\session.py\u001b[0m in \u001b[0;36m_call_tf_sessionrun\u001b[1;34m(self, options, feed_dict, fetch_list, target_list, run_metadata)\u001b[0m\n\u001b[0;32m   1407\u001b[0m       return tf_session.TF_SessionRun_wrapper(\n\u001b[0;32m   1408\u001b[0m           \u001b[0mself\u001b[0m\u001b[1;33m.\u001b[0m\u001b[0m_session\u001b[0m\u001b[1;33m,\u001b[0m \u001b[0moptions\u001b[0m\u001b[1;33m,\u001b[0m \u001b[0mfeed_dict\u001b[0m\u001b[1;33m,\u001b[0m \u001b[0mfetch_list\u001b[0m\u001b[1;33m,\u001b[0m \u001b[0mtarget_list\u001b[0m\u001b[1;33m,\u001b[0m\u001b[1;33m\u001b[0m\u001b[0m\n\u001b[1;32m-> 1409\u001b[1;33m           run_metadata)\n\u001b[0m\u001b[0;32m   1410\u001b[0m     \u001b[1;32melse\u001b[0m\u001b[1;33m:\u001b[0m\u001b[1;33m\u001b[0m\u001b[0m\n\u001b[0;32m   1411\u001b[0m       \u001b[1;32mwith\u001b[0m \u001b[0merrors\u001b[0m\u001b[1;33m.\u001b[0m\u001b[0mraise_exception_on_not_ok_status\u001b[0m\u001b[1;33m(\u001b[0m\u001b[1;33m)\u001b[0m \u001b[1;32mas\u001b[0m \u001b[0mstatus\u001b[0m\u001b[1;33m:\u001b[0m\u001b[1;33m\u001b[0m\u001b[0m\n",
      "\u001b[1;31mKeyboardInterrupt\u001b[0m: "
     ]
    }
   ],
   "source": [
    "model.fit(x=trainX, y=trainY, batch_size=batch_size, epochs=50,\n",
    "#           validation_split=0.3,\n",
    "          validation_data=(testX, testY)),\n",
    "#           callbacks=callbacks_list)"
   ]
  },
  {
   "cell_type": "code",
   "execution_count": 11,
   "metadata": {},
   "outputs": [],
   "source": [
    "# # Save model\n",
    "# model.save('model_1D_CNN.h5')\n",
    "\n",
    "# Load saved model\n",
    "# model = load_model('model_mlp_time_data.h5')"
   ]
  },
  {
   "cell_type": "code",
   "execution_count": 40,
   "metadata": {},
   "outputs": [
    {
     "data": {
      "image/png": "[encoded data removed]",
      "text/plain": [
       "<Figure size 432x288 with 1 Axes>"
      ]
     },
     "metadata": {},
     "output_type": "display_data"
    },
    {
     "name": "stdout",
     "output_type": "stream",
     "text": [
      "Test RMSE: 1.7254601650180923\n",
      "Test  MRE: 25.600299184244694 %\n"
     ]
    }
   ],
   "source": [
    "# 100 components, full data, n_estimators = 100, reg:gamma\n",
    "# preds = model.predict(np.reshape(X_val, (X_val.shape[0], X_val.shape[1], 1)))\n",
    "# rmse = np.sqrt(mean_squared_error(preds, Y_val)) #np.sqrt(np.mean((preds-Y_testing)**2))\n",
    "# print(\"Val RMSE:\", rmse)\n",
    "\n",
    "## CNN-32-16\n",
    "preds = model.predict(testX)#np.reshape(X_testing, (X_testing.shape[0], X_testing.shape[1], 1)))\n",
    "# preds = np.reshape(preds, (preds.shape[0],))\n",
    "# print(preds.shape, testY.shape)\n",
    "plt.plot(preds,'o',color='blue',markersize=2,mew=0.5,mec='blue',markerfacecolor='none')\n",
    "plt.plot(testY,'r',linewidth=1.0)\n",
    "plt.legend(['Precitions', 'Ground Truth'])\n",
    "plt.show()\n",
    "\n",
    "rmse = np.sqrt(mean_squared_error(preds, testY)) #np.sqrt(np.mean((preds-Y_testing)**2))\n",
    "print(\"Test RMSE:\", rmse)\n",
    "print(\"Test  MRE:\", rmse*100.0/(np.max(testY) - np.min(testY)),\"%\" )"
   ]
  },
  {
   "cell_type": "code",
   "execution_count": 23,
   "metadata": {},
   "outputs": [
    {
     "data": {
      "image/png": "[encoded data removed]",
      "text/plain": [
       "<Figure size 432x288 with 1 Axes>"
      ]
     },
     "metadata": {},
     "output_type": "display_data"
    },
    {
     "name": "stdout",
     "output_type": "stream",
     "text": [
      "Test RMSE: 1.8648364112627602\n"
     ]
    }
   ],
   "source": [
    "# 100 components, full data, n_estimators = 100, reg:gamma\n",
    "# preds = model.predict(np.reshape(X_val, (X_val.shape[0], X_val.shape[1], 1)))\n",
    "# rmse = np.sqrt(mean_squared_error(preds, Y_val)) #np.sqrt(np.mean((preds-Y_testing)**2))\n",
    "# print(\"Val RMSE:\", rmse)\n",
    "\n",
    "## CNN-64-32\n",
    "preds = model.predict(testX)#np.reshape(X_testing, (X_testing.shape[0], X_testing.shape[1], 1)))\n",
    "# preds = np.reshape(preds, (preds.shape[0],))\n",
    "# print(preds.shape, testY.shape)\n",
    "plt.plot(preds,'o',color='blue',markersize=2,mew=0.5,mec='blue',markerfacecolor='none')\n",
    "plt.plot(testY,'r',linewidth=1.0)\n",
    "plt.legend(['Precitions', 'Ground Truth'])\n",
    "plt.show()\n",
    "\n",
    "rmse = np.sqrt(mean_squared_error(preds, testY)) #np.sqrt(np.mean((preds-Y_testing)**2))\n",
    "print(\"Test RMSE:\", rmse)\n",
    "print(\"TEST MRE\", rmse*100.0/(np.max(testY) - np.min(testY)) )"
   ]
  },
  {
   "cell_type": "code",
   "execution_count": 22,
   "metadata": {},
   "outputs": [
    {
     "data": {
      "text/plain": [
       "10.0"
      ]
     },
     "execution_count": 22,
     "metadata": {},
     "output_type": "execute_result"
    }
   ],
   "source": [
    "np.max(Y_training)"
   ]
  }
 ],
 "metadata": {
  "kernelspec": {
   "display_name": "Python 3",
   "language": "python",
   "name": "python3"
  },
  "language_info": {
   "codemirror_mode": {
    "name": "ipython",
    "version": 3
   },
   "file_extension": ".py",
   "mimetype": "text/x-python",
   "name": "python",
   "nbconvert_exporter": "python",
   "pygments_lexer": "ipython3",
   "version": "3.6.5"
  }
 },
 "nbformat": 4,
 "nbformat_minor": 2
}
