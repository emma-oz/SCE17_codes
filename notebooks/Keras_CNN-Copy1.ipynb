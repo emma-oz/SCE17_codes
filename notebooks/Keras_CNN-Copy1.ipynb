{
 "cells": [
  {
   "cell_type": "code",
   "execution_count": 1,
   "metadata": {},
   "outputs": [
    {
     "name": "stderr",
     "output_type": "stream",
     "text": [
      "/home/akpurohi/.conda/envs/python_env/lib/python3.6/site-packages/h5py/__init__.py:36: FutureWarning: Conversion of the second argument of issubdtype from `float` to `np.floating` is deprecated. In future, it will be treated as `np.float64 == np.dtype(float).type`.\n",
      "  from ._conv import register_converters as _register_converters\n",
      "Using TensorFlow backend.\n"
     ]
    }
   ],
   "source": [
    "import pickle\n",
    "import numpy as np\n",
    "import matplotlib.pyplot as plt\n",
    "import scipy.misc\n",
    "import keras.backend as K\n",
    "import xgboost as xgb\n",
    "import os\n",
    "\n",
    "from sklearn.metrics import mean_squared_error\n",
    "from keras.models import Sequential, load_model  \n",
    "from keras.layers.core import Dense, Activation  \n",
    "from keras.layers import LSTM, Flatten, Dropout, Conv1D, MaxPooling1D, Convolution1D\n",
    "from keras.models import Sequential\n",
    "from keras.layers import Input,Dense, LSTM,TimeDistributed, Flatten, Reshape\n",
    "from keras.models import Model\n",
    "from keras.preprocessing import sequence\n",
    "from keras.optimizers import Nadam\n",
    "from keras import optimizers\n",
    "from keras.layers.normalization import BatchNormalization\n",
    "\n",
    "%matplotlib inline"
   ]
  },
  {
   "cell_type": "code",
   "execution_count": 3,
   "metadata": {
    "collapsed": true
   },
   "outputs": [],
   "source": [
    "# X_training = pickle.load(open(\"X_train.pickle\",\"rb\"))\n",
    "# Y_training = pickle.load(open(\"Y_train.pickle\",\"rb\"))\n",
    "# X_testing = pickle.load(open(\"X_test.pickle\",\"rb\"))\n",
    "# Y_testing = pickle.load(open(\"Y_test.pickle\",\"rb\"))\n",
    "\n",
    "# X_training_un = pickle.load(open(\"X_train_un.pickle\",\"rb\"))\n",
    "# Y_training_un = pickle.load(open(\"Y_train_un.pickle\",\"rb\"))\n",
    "# X_testing_un = pickle.load(open(\"X_test_un.pickle\",\"rb\"))\n",
    "# Y_testing_un = pickle.load(open(\"Y_test_un.pickle\",\"rb\"))\n",
    "\n",
    "\n",
    "data_dir = '../data2'\n",
    "\n",
    "X_training = np.load(os.path.join(data_dir, \"X_train_f100.npy\"))#\"../data2/X_train_f100.npy\")\n",
    "Y_training = np.load(os.path.join(data_dir, \"Y_train_f100.npy\"))#\"../data2/Y_train_f100.npy\")\n",
    "\n",
    "X_val = np.load(os.path.join(data_dir, \"X_val_f100.npy\"))#\"../data2/X_val_f100.npy\")\n",
    "Y_val = np.load(os.path.join(data_dir, \"Y_val_f100.npy\"))#\"../data2/Y_val_f100.npy\")\n",
    "\n",
    "X_testing = np.load(os.path.join(data_dir, \"X_test_f100.npy\"))#\"../data2/X_test_f100.npy\")\n",
    "Y_testing = np.load(os.path.join(data_dir, \"Y_test_f100.npy\"))#\"../data2/Y_test_f100.npy\")\n",
    "\n",
    "# X_training_un = pickle.load(open(\"X_train_un.pickle\",\"rb\"))\n",
    "# Y_training_un = pickle.load(open(\"Y_train_un.pickle\",\"rb\"))\n",
    "# X_testing_un = pickle.load(open(\"X_test_un.pickle\",\"rb\"))\n",
    "# Y_testing_un = pickle.load(open(\"Y_test_un.pickle\",\"rb\"))\n",
    "\n",
    "\n",
    "# X_training = np.concatenate((X_training, X_training_un), axis=0)\n",
    "# Y_training = np.concatenate((Y_training, Y_training_un), axis=0)\n",
    "# X_val = X_testing\n",
    "# Y_val = Y_testing\n",
    "# X_testing = np.concatenate((X_testing, X_testing_un), axis=0)\n",
    "# Y_testing = np.concatenate((Y_testing, Y_testing_un), axis=0)\n",
    "\n",
    "\n",
    "# Centering and Normalizing data\n",
    "\n",
    "\n",
    "# X_training = X_training[0:10]\n",
    "# Y_training = Y_training[0:10]\n",
    "\n",
    "mux = np.mean(X_training, axis=0)\n",
    "stdx = np.std(X_training, axis=0)\n",
    "X_training = (X_training - mux)/stdx\n",
    "X_val = (X_val - mux)/stdx\n",
    "X_testing = (X_testing - mux)/stdx"
   ]
  },
  {
   "cell_type": "code",
   "execution_count": 4,
   "metadata": {},
   "outputs": [
    {
     "data": {
      "image/png": "[encoded data removed]",
      "text/plain": [
       "<Figure size 432x288 with 1 Axes>"
      ]
     },
     "metadata": {},
     "output_type": "display_data"
    }
   ],
   "source": [
    "plt.hist(Y_training)\n",
    "plt.show()"
   ]
  },
  {
   "cell_type": "code",
   "execution_count": 5,
   "metadata": {
    "collapsed": true
   },
   "outputs": [],
   "source": [
    "def get_model(batch_size, data_dim = 100):\n",
    "    nb_filters = 200\n",
    "#     model = Sequential()\n",
    "#     model.add(Conv1D(input_shape = (data_dim, 1), filters = nb_filters, \n",
    "#                      kernel_size = 10, activation='tanh', name=\"Conv1\"))\n",
    "#     model.add(MaxPooling1D(pool_size=2))\n",
    "#     model.add(Conv1D(filters = nb_filters, kernel_size = 5, \n",
    "#                      activation='relu', name=\"Conv2\"))\n",
    "#     model.add(Flatten())\n",
    "#     model.add(Dense(2048, activation='relu', name=\"Dense1\"))\n",
    "#     model.add(Dropout(0.2))\n",
    "#     model.add(Dense(1024, activation='relu', name=\"Dense2\"))\n",
    "#     model.add(Dense(1))\n",
    "    \n",
    "    inputs = Input(shape = (data_dim, 1))\n",
    "    conv_1 = Convolution1D(filters = nb_filters, kernel_size = 3,\n",
    "                    activation='tanh', name=\"Conv1\")(inputs)\n",
    "    maxpool_1 = MaxPooling1D(name=\"maxpool1\")(conv_1)\n",
    "    batch_norm1 = BatchNormalization( name = \"batch_norm_1\")(maxpool_1)\n",
    "    conv_2 = Convolution1D(filters = nb_filters, kernel_size = 2, \n",
    "                     activation='relu', name=\"Conv2\")(batch_norm1)\n",
    "    maxpool_2 = MaxPooling1D(name=\"maxpool2\")(conv_2)\n",
    "    batch_norm2 = BatchNormalization( name = \"batch_norm_2\")(maxpool_2)\n",
    "    \n",
    "    conv_3 = Convolution1D(filters = nb_filters, kernel_size = 2, \n",
    "                     activation='relu', name=\"Conv3\")(batch_norm2)\n",
    "    maxpool_3 = MaxPooling1D(name=\"maxpool3\")(conv_3)\n",
    "#     batch_norm2 = BatchNormalization( name = \"batch_norm_2\")(maxpool_2)\n",
    "    \n",
    "    flatten = Flatten()(maxpool_3)\n",
    "    dense_1 = Dense(1024, activation='relu', name=\"Dense1\")(flatten)\n",
    "    dropout_1 = Dropout(0.4)(dense_1)\n",
    "    dense_2 = Dense(512, activation='relu', name=\"Dense2\")(dropout_1)\n",
    "    dropout_1 = Dropout(0.4)(dense_2)\n",
    "    output = Dense(1, name=\"output\")(dense_2)\n",
    "    model = Model(inputs = inputs, output = output)\n",
    "    \n",
    "    return model"
   ]
  },
  {
   "cell_type": "code",
   "execution_count": 12,
   "metadata": {},
   "outputs": [
    {
     "name": "stdout",
     "output_type": "stream",
     "text": [
      "_________________________________________________________________\n",
      "Layer (type)                 Output Shape              Param #   \n",
      "=================================================================\n",
      "input_3 (InputLayer)         (None, 16, 1)             0         \n",
      "_________________________________________________________________\n",
      "Conv1 (Conv1D)               (None, 15, 200)           600       \n",
      "_________________________________________________________________\n",
      "maxpool1 (MaxPooling1D)      (None, 7, 200)            0         \n",
      "_________________________________________________________________\n",
      "batch_norm_1 (BatchNormaliza (None, 7, 200)            800       \n",
      "_________________________________________________________________\n",
      "Conv2 (Conv1D)               (None, 6, 200)            80200     \n",
      "_________________________________________________________________\n",
      "maxpool2 (MaxPooling1D)      (None, 3, 200)            0         \n",
      "_________________________________________________________________\n",
      "batch_norm_2 (BatchNormaliza (None, 3, 200)            800       \n",
      "_________________________________________________________________\n",
      "flatten_1 (Flatten)          (None, 600)               0         \n",
      "_________________________________________________________________\n",
      "Dense1 (Dense)               (None, 1024)              615424    \n",
      "_________________________________________________________________\n",
      "dropout_1 (Dropout)          (None, 1024)              0         \n",
      "_________________________________________________________________\n",
      "Dense2 (Dense)               (None, 512)               524800    \n",
      "_________________________________________________________________\n",
      "output (Dense)               (None, 1)                 513       \n",
      "=================================================================\n",
      "Total params: 1,223,137\n",
      "Trainable params: 1,222,337\n",
      "Non-trainable params: 800\n",
      "_________________________________________________________________\n"
     ]
    }
   ],
   "source": [
    "model.summary()"
   ]
  },
  {
   "cell_type": "code",
   "execution_count": 7,
   "metadata": {},
   "outputs": [
    {
     "data": {
      "text/plain": [
       "16"
      ]
     },
     "execution_count": 7,
     "metadata": {},
     "output_type": "execute_result"
    }
   ],
   "source": [
    "X_training.shape[1]"
   ]
  },
  {
   "cell_type": "code",
   "execution_count": null,
   "metadata": {
    "scrolled": false
   },
   "outputs": [
    {
     "name": "stderr",
     "output_type": "stream",
     "text": [
      "/home/akpurohi/.conda/envs/python_env/lib/python3.6/site-packages/ipykernel_launcher.py:36: UserWarning: Update your `Model` call to the Keras 2 API: `Model(inputs=Tensor(\"in..., outputs=Tensor(\"ou...)`\n"
     ]
    },
    {
     "name": "stdout",
     "output_type": "stream",
     "text": [
      "Train on 25694 samples, validate on 11012 samples\n",
      "Epoch 1/50\n",
      "25694/25694 [==============================] - 69s 3ms/step - loss: 25.1263 - val_loss: 31.7733\n",
      "Epoch 2/50\n",
      "25694/25694 [==============================] - 57s 2ms/step - loss: 11.8638 - val_loss: 43.2634\n",
      "Epoch 3/50\n",
      "25694/25694 [==============================] - 56s 2ms/step - loss: 10.7171 - val_loss: 27.6724\n",
      "Epoch 4/50\n",
      "25694/25694 [==============================] - 60s 2ms/step - loss: 9.8121 - val_loss: 30.3202\n",
      "Epoch 5/50\n",
      "25694/25694 [==============================] - 67s 3ms/step - loss: 9.1218 - val_loss: 35.1738\n",
      "Epoch 6/50\n",
      "25694/25694 [==============================] - 60s 2ms/step - loss: 8.6094 - val_loss: 29.1957\n",
      "Epoch 7/50\n",
      "25694/25694 [==============================] - 57s 2ms/step - loss: 8.2801 - val_loss: 27.9545\n",
      "Epoch 8/50\n",
      "25694/25694 [==============================] - 61s 2ms/step - loss: 7.8571 - val_loss: 37.4318\n",
      "Epoch 9/50\n",
      "25694/25694 [==============================] - 65s 3ms/step - loss: 7.5249 - val_loss: 32.3486\n",
      "Epoch 10/50\n",
      "25694/25694 [==============================] - 56s 2ms/step - loss: 7.2068 - val_loss: 29.5803\n",
      "Epoch 11/50\n",
      "25694/25694 [==============================] - 55s 2ms/step - loss: 6.9729 - val_loss: 29.0151\n",
      "Epoch 12/50\n",
      "25694/25694 [==============================] - 65s 3ms/step - loss: 6.6914 - val_loss: 33.6824\n",
      "Epoch 13/50\n",
      "25694/25694 [==============================] - 58s 2ms/step - loss: 6.5181 - val_loss: 30.5500\n",
      "Epoch 14/50\n",
      "25694/25694 [==============================] - 56s 2ms/step - loss: 6.2757 - val_loss: 27.4950\n",
      "Epoch 15/50\n",
      " 1080/25694 [>.............................] - ETA: 55s - loss: 5.6250"
     ]
    }
   ],
   "source": [
    "n_epochs = 50\n",
    "data_dim = X_training.shape[1]\n",
    "batch_size = 20\n",
    "L=len(X_training)\n",
    "n_Iter = int(L/batch_size)\n",
    "\n",
    "optimizer = optimizers.RMSprop()#, beta_1=0.9, beta_2=0.999, epsilon=1e-08)#, schedule_decay=0.004)\n",
    "model = get_model(batch_size, data_dim)\n",
    "model.compile(loss=\"mse\", optimizer=optimizer)\n",
    "\n",
    "val_data = (np.reshape(X_val, (X_val.shape[0], X_val.shape[1], 1)), Y_val)\n",
    "Y_train = np.reshape( Y_training, (L, 1, 1) )\n",
    "X_train = np.reshape( X_training, (L, X_training.shape[1], 1) )\n",
    "\n",
    "\n",
    "\n",
    "# for epoch in range(n_epochs):\n",
    "#     pos = 0\n",
    "#     for itr in range(n_Iter):\n",
    "# #         trainX = X_training[pos: pos+batch_size]\n",
    "# #         trainY = Y_training[pos: pos+batch_size]\n",
    "#         trainX = np.reshape(X_training[pos: pos+batch_size], (1, batch_size, X_training.shape[1]))\n",
    "#         trainY = np.reshape(Y_training[pos: pos+batch_size], (1, batch_size, 1))\n",
    "#         model.fit(trainX, trainY, validation_data = val_data)\n",
    "#         pos += batch_size\n",
    "\n",
    "model.fit(x=X_train, y=Y_training, batch_size=batch_size, epochs=n_epochs, validation_data=val_data)"
   ]
  },
  {
   "cell_type": "code",
   "execution_count": null,
   "metadata": {
    "collapsed": true
   },
   "outputs": [],
   "source": [
    "# # Save model\n",
    "# model.save('model_mlp_time_data.h5')\n",
    "\n",
    "# Load saved model\n",
    "# model = load_model('model_mlp_time_data.h5')"
   ]
  },
  {
   "cell_type": "code",
   "execution_count": null,
   "metadata": {
    "collapsed": true
   },
   "outputs": [],
   "source": [
    "# 100 components, full data, n_estimators = 100, reg:gamma\n",
    "preds = model.predict(np.reshape(X_val, (X_val.shape[0], X_val.shape[1], 1)))\n",
    "rmse = np.sqrt(mean_squared_error(preds, Y_val)) #np.sqrt(np.mean((preds-Y_testing)**2))\n",
    "print(\"Val RMSE:\", rmse)\n",
    "\n",
    "preds = model.predict(np.reshape(X_testing, (X_testing.shape[0], X_testing.shape[1], 1)))\n",
    "plt.plot(preds,'o',color='blue',markersize=2,mew=0.5,mec='blue',markerfacecolor='none')\n",
    "plt.plot(Y_testing,'r',linewidth=1.0)\n",
    "plt.legend(['Precitions', 'Ground Truth'])\n",
    "plt.show()\n",
    "\n",
    "rmse = np.sqrt(mean_squared_error(preds, Y_testing)) #np.sqrt(np.mean((preds-Y_testing)**2))\n",
    "print(\"Test RMSE:\", rmse)"
   ]
  }
 ],
 "metadata": {
  "kernelspec": {
   "display_name": "Python 3",
   "language": "python",
   "name": "python3"
  },
  "language_info": {
   "codemirror_mode": {
    "name": "ipython",
    "version": 3
   },
   "file_extension": ".py",
   "mimetype": "text/x-python",
   "name": "python",
   "nbconvert_exporter": "python",
   "pygments_lexer": "ipython3",
   "version": "3.6.5"
  }
 },
 "nbformat": 4,
 "nbformat_minor": 2
}
