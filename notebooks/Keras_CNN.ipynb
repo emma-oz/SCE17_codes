{
 "cells": [
  {
   "cell_type": "code",
   "execution_count": 20,
   "metadata": {},
   "outputs": [],
   "source": [
    "import pickle\n",
    "import numpy as np\n",
    "import matplotlib.pyplot as plt\n",
    "import scipy.misc\n",
    "import keras.backend as K\n",
    "import xgboost as xgb\n",
    "import os\n",
    "\n",
    "from sklearn.metrics import mean_squared_error\n",
    "from keras.models import Sequential, load_model  \n",
    "from keras.layers.core import Dense, Activation  \n",
    "from keras.layers import LSTM, Flatten, Dropout, Conv1D, MaxPooling1D, Convolution1D,\\\n",
    "                         Convolution2D, MaxPooling2D\n",
    "from keras.models import Sequential\n",
    "from keras.layers import Input,Dense, LSTM,TimeDistributed, Flatten, Reshape\n",
    "from keras.models import Model\n",
    "from keras.preprocessing import sequence\n",
    "from keras.optimizers import Nadam\n",
    "from keras import optimizers\n",
    "from keras.layers.normalization import BatchNormalization\n",
    "from keras.callbacks import EarlyStopping\n",
    "\n",
    "\n",
    "%matplotlib inline"
   ]
  },
  {
   "cell_type": "code",
   "execution_count": 2,
   "metadata": {
    "collapsed": true
   },
   "outputs": [],
   "source": [
    "# X_training = pickle.load(open(\"X_train.pickle\",\"rb\"))\n",
    "# Y_training = pickle.load(open(\"Y_train.pickle\",\"rb\"))\n",
    "# X_testing = pickle.load(open(\"X_test.pickle\",\"rb\"))\n",
    "# Y_testing = pickle.load(open(\"Y_test.pickle\",\"rb\"))\n",
    "\n",
    "# X_training_un = pickle.load(open(\"X_train_un.pickle\",\"rb\"))\n",
    "# Y_training_un = pickle.load(open(\"Y_train_un.pickle\",\"rb\"))\n",
    "# X_testing_un = pickle.load(open(\"X_test_un.pickle\",\"rb\"))\n",
    "# Y_testing_un = pickle.load(open(\"Y_test_un.pickle\",\"rb\"))\n",
    "\n",
    "\n",
    "data_dir = '../data2/5dBsim'\n",
    "\n",
    "X_training = np.load(os.path.join(data_dir, \"X_train.npy\"))#\"../data2/X_train_f100.npy\")\n",
    "Y_training = np.load(os.path.join(data_dir, \"Y_train.npy\"))#\"../data2/Y_train_f100.npy\")\n",
    "\n",
    "X_val = np.load(os.path.join(data_dir, \"X_val.npy\"))#\"../data2/X_val_f100.npy\")\n",
    "Y_val = np.load(os.path.join(data_dir, \"Y_val.npy\"))#\"../data2/Y_val_f100.npy\")\n",
    "\n",
    "X_testing = np.load(os.path.join(data_dir, \"X_test.npy\"))#\"../data2/X_test_f100.npy\")\n",
    "Y_testing = np.load(os.path.join(data_dir, \"Y_test.npy\"))#\"../data2/Y_test_f100.npy\")\n",
    "\n",
    "# X_training_un = pickle.load(open(\"X_train_un.pickle\",\"rb\"))\n",
    "# Y_training_un = pickle.load(open(\"Y_train_un.pickle\",\"rb\"))\n",
    "# X_testing_un = pickle.load(open(\"X_test_un.pickle\",\"rb\"))\n",
    "# Y_testing_un = pickle.load(open(\"Y_test_un.pickle\",\"rb\"))\n",
    "\n",
    "\n",
    "# X_training = np.concatenate((X_training, X_training_un), axis=0)\n",
    "# Y_training = np.concatenate((Y_training, Y_training_un), axis=0)\n",
    "# X_val = X_testing\n",
    "# Y_val = Y_testing\n",
    "# X_testing = np.concatenate((X_testing, X_testing_un), axis=0)\n",
    "# Y_testing = np.concatenate((Y_testing, Y_testing_un), axis=0)\n",
    "\n",
    "\n",
    "# Centering and Normalizing data\n",
    "\n",
    "\n",
    "# X_training = X_training[0:10]\n",
    "# Y_training = Y_training[0:10]\n",
    "\n",
    "mux = np.mean(X_training, axis=0)\n",
    "stdx = np.std(X_training, axis=0)\n",
    "X_training = (X_training - mux)/stdx\n",
    "X_val = (X_val - mux)/stdx\n",
    "X_testing = (X_testing - mux)/stdx"
   ]
  },
  {
   "cell_type": "code",
   "execution_count": 15,
   "metadata": {},
   "outputs": [
    {
     "data": {
      "text/plain": [
       "(2000, 16, 201, 2)"
      ]
     },
     "execution_count": 15,
     "metadata": {},
     "output_type": "execute_result"
    }
   ],
   "source": [
    "X_testing.shape"
   ]
  },
  {
   "cell_type": "code",
   "execution_count": 3,
   "metadata": {},
   "outputs": [
    {
     "data": {
      "image/png": "[encoded data removed]",
      "text/plain": [
       "<Figure size 432x288 with 1 Axes>"
      ]
     },
     "metadata": {},
     "output_type": "display_data"
    }
   ],
   "source": [
    "plt.hist(Y_training)\n",
    "plt.show()"
   ]
  },
  {
   "cell_type": "code",
   "execution_count": 28,
   "metadata": {
    "collapsed": true
   },
   "outputs": [],
   "source": [
    "def get_model(batch_size, data_dim = 100):\n",
    "    nb_filters = 200\n",
    "#     model = Sequential()\n",
    "#     model.add(Conv1D(input_shape = (data_dim, 1), filters = nb_filters, \n",
    "#                      kernel_size = 10, activation='tanh', name=\"Conv1\"))\n",
    "#     model.add(MaxPooling1D(pool_size=2))\n",
    "#     model.add(Conv1D(filters = nb_filters, kernel_size = 5, \n",
    "#                      activation='relu', name=\"Conv2\"))\n",
    "#     model.add(Flatten())\n",
    "#     model.add(Dense(2048, activation='relu', name=\"Dense1\"))\n",
    "#     model.add(Dropout(0.2))\n",
    "#     model.add(Dense(1024, activation='relu', name=\"Dense2\"))\n",
    "#     model.add(Dense(1))\n",
    "    \n",
    "#     inputs = Input(shape = (data_dim, 1))\n",
    "#     conv_1 = Convolution1D(filters = 512, kernel_size = 16,\n",
    "#                     activation='tanh', name=\"Conv1\")(inputs)\n",
    "#     maxpool_1 = MaxPooling1D(name=\"maxpool1\")(conv_1)\n",
    "# #     batch_norm1 = BatchNormalization( name = \"batch_norm_1\")(maxpool_1)\n",
    "#     conv_2 = Convolution1D(filters = 256, kernel_size = 8, \n",
    "#                      activation='relu', name=\"Conv2\")(maxpool_1)\n",
    "#     maxpool_2 = MaxPooling1D(name=\"maxpool2\")(conv_2)\n",
    "# #     batch_norm2 = BatchNormalization( name = \"batch_norm_2\")(maxpool_2)\n",
    "    \n",
    "#     conv_3 = Convolution1D(filters = nb_filters, kernel_size = 2, \n",
    "#                      activation='relu', name=\"Conv3\")(maxpool_2)\n",
    "#     maxpool_3 = MaxPooling1D(name=\"maxpool3\")(conv_3)\n",
    "# #     batch_norm2 = BatchNormalization( name = \"batch_norm_2\")(maxpool_2)\n",
    "    \n",
    "#     flatten = Flatten()(maxpool_2)\n",
    "#     dense_1 = Dense(1024, activation='relu', name=\"Dense1\")(flatten)\n",
    "# #     dropout_1 = Dropout(0.2)(dense_1)\n",
    "#     dense_2 = Dense(512, activation='relu', name=\"Dense2\")(dense_1)\n",
    "# #     dropout_1 = Dropout(0.2)(dense_2)\n",
    "#     output = Dense(1, name=\"output\")(dense_2)\n",
    "#     model = Model(inputs = inputs, output = output)\n",
    "\n",
    "    inputs = Input(shape = (16,201,2))\n",
    "    conv_1 = Convolution2D(filters = 512, kernel_size = (7,7),\n",
    "                    activation='tanh', name=\"Conv1\")(inputs)\n",
    "    maxpool_1 = MaxPooling2D(name=\"maxpool1\")(conv_1)\n",
    "#     batch_norm1 = BatchNormalization( name = \"batch_norm_1\")(maxpool_1)\n",
    "    conv_2 = Convolution2D(filters = 256, kernel_size = (3,3), \n",
    "                     activation='relu', name=\"Conv2\")(conv_1)\n",
    "    maxpool_2 = MaxPooling2D(name=\"maxpool2\")(conv_2)\n",
    "#     batch_norm2 = BatchNormalization( name = \"batch_norm_2\")(maxpool_2)\n",
    "    \n",
    "    conv_3 = Convolution2D(filters = nb_filters, kernel_size = (3,3), \n",
    "                     activation='relu', name=\"Conv3\")(conv_2)\n",
    "    maxpool_3 = MaxPooling2D(name=\"maxpool3\")(conv_3)\n",
    "#     batch_norm2 = BatchNormalization( name = \"batch_norm_2\")(maxpool_2)\n",
    "    \n",
    "    flatten = Flatten()(maxpool_3)\n",
    "    dense_1 = Dense(1024, activation='relu', name=\"Dense1\")(flatten)\n",
    "#     dropout_1 = Dropout(0.2)(dense_1)\n",
    "    dense_2 = Dense(512, activation='relu', name=\"Dense2\")(dense_1)\n",
    "#     dropout_1 = Dropout(0.2)(dense_2)\n",
    "    output = Dense(1, name=\"output\")(dense_2)\n",
    "    model = Model(inputs = inputs, output = output)\n",
    "    \n",
    "    return model"
   ]
  },
  {
   "cell_type": "code",
   "execution_count": 29,
   "metadata": {
    "scrolled": true
   },
   "outputs": [
    {
     "name": "stderr",
     "output_type": "stream",
     "text": [
      "/home/akpurohi/.conda/envs/python_env/lib/python3.6/site-packages/ipykernel_launcher.py:59: UserWarning: Update your `Model` call to the Keras 2 API: `Model(inputs=Tensor(\"in..., outputs=Tensor(\"ou...)`\n"
     ]
    }
   ],
   "source": [
    "n_epochs = 50\n",
    "data_dim = X_training.shape[1]\n",
    "batch_size = 20\n",
    "L=len(X_training)\n",
    "n_Iter = int(L/batch_size)\n",
    "\n",
    "optimizer = optimizers.Adadelta()#, beta_1=0.9, beta_2=0.999, epsilon=1e-08)#, schedule_decay=0.004)\n",
    "model = get_model(batch_size, data_dim)\n",
    "model.compile(loss=\"mse\", optimizer=optimizer)\n",
    "earlystop = EarlyStopping(monitor='val_loss', min_delta=0.0001, patience=4,\n",
    "                          verbose=1, mode='auto')\n",
    "callbacks_list = [earlystop]\n",
    "# val_data = (np.reshape(X_val, (X_val.shape[0], X_val.shape[1], 1)), Y_val)\n",
    "# Y_train = np.reshape( Y_training, (L, 1, 1) )\n",
    "# X_train = np.reshape( X_training, (L, X_training.shape[1], 1) )"
   ]
  },
  {
   "cell_type": "code",
   "execution_count": 30,
   "metadata": {},
   "outputs": [
    {
     "name": "stdout",
     "output_type": "stream",
     "text": [
      "_________________________________________________________________\n",
      "Layer (type)                 Output Shape              Param #   \n",
      "=================================================================\n",
      "input_8 (InputLayer)         (None, 16, 201, 2)        0         \n",
      "_________________________________________________________________\n",
      "Conv1 (Conv2D)               (None, 10, 195, 512)      50688     \n",
      "_________________________________________________________________\n",
      "Conv2 (Conv2D)               (None, 8, 193, 256)       1179904   \n",
      "_________________________________________________________________\n",
      "Conv3 (Conv2D)               (None, 6, 191, 200)       461000    \n",
      "_________________________________________________________________\n",
      "maxpool3 (MaxPooling2D)      (None, 3, 95, 200)        0         \n",
      "_________________________________________________________________\n",
      "flatten_2 (Flatten)          (None, 57000)             0         \n",
      "_________________________________________________________________\n",
      "Dense1 (Dense)               (None, 1024)              58369024  \n",
      "_________________________________________________________________\n",
      "Dense2 (Dense)               (None, 512)               524800    \n",
      "_________________________________________________________________\n",
      "output (Dense)               (None, 1)                 513       \n",
      "=================================================================\n",
      "Total params: 60,585,929\n",
      "Trainable params: 60,585,929\n",
      "Non-trainable params: 0\n",
      "_________________________________________________________________\n"
     ]
    }
   ],
   "source": [
    "model.summary()"
   ]
  },
  {
   "cell_type": "code",
   "execution_count": 32,
   "metadata": {
    "scrolled": true
   },
   "outputs": [
    {
     "name": "stdout",
     "output_type": "stream",
     "text": [
      "Train on 8000 samples, validate on 2000 samples\n",
      "Epoch 1/50\n",
      "8000/8000 [==============================] - 626s 78ms/step - loss: 47.4750 - val_loss: 89.6519\n",
      "Epoch 2/50\n",
      "8000/8000 [==============================] - 595s 74ms/step - loss: 9.3351 - val_loss: 51.7662\n",
      "Epoch 3/50\n",
      "8000/8000 [==============================] - 575s 72ms/step - loss: 5.1587 - val_loss: 35.1432\n",
      "Epoch 4/50\n",
      "8000/8000 [==============================] - 595s 74ms/step - loss: 3.9732 - val_loss: 36.3527\n",
      "Epoch 5/50\n",
      "8000/8000 [==============================] - 590s 74ms/step - loss: 2.9865 - val_loss: 42.5397\n",
      "Epoch 6/50\n",
      "8000/8000 [==============================] - 600s 75ms/step - loss: 2.6056 - val_loss: 34.1426\n",
      "Epoch 7/50\n",
      "8000/8000 [==============================] - 601s 75ms/step - loss: 1.9008 - val_loss: 37.9561\n",
      "Epoch 8/50\n",
      "8000/8000 [==============================] - 603s 75ms/step - loss: 2.2667 - val_loss: 29.0981\n",
      "Epoch 9/50\n",
      "8000/8000 [==============================] - 600s 75ms/step - loss: 1.5258 - val_loss: 22.8501\n",
      "Epoch 10/50\n",
      "8000/8000 [==============================] - 600s 75ms/step - loss: 1.5288 - val_loss: 47.0709\n",
      "Epoch 11/50\n",
      "8000/8000 [==============================] - 602s 75ms/step - loss: 1.3869 - val_loss: 38.4752\n",
      "Epoch 12/50\n",
      "8000/8000 [==============================] - 609s 76ms/step - loss: 1.2822 - val_loss: 44.0939\n",
      "Epoch 13/50\n",
      "8000/8000 [==============================] - 608s 76ms/step - loss: 1.2521 - val_loss: 39.3238\n",
      "Epoch 00013: early stopping\n"
     ]
    },
    {
     "data": {
      "text/plain": [
       "<keras.callbacks.History at 0x7ff101d153c8>"
      ]
     },
     "execution_count": 32,
     "metadata": {},
     "output_type": "execute_result"
    }
   ],
   "source": [
    "model.fit(x=X_training, y=Y_training, batch_size=batch_size, epochs=n_epochs, \n",
    "          validation_split=0.3\n",
    "#           validation_data=(X_testing, Y_testing), \n",
    "          callbacks=callbacks_list)"
   ]
  },
  {
   "cell_type": "code",
   "execution_count": 6,
   "metadata": {
    "collapsed": true
   },
   "outputs": [],
   "source": [
    "# # Save model\n",
    "# model.save('model_1D_CNN.h5')\n",
    "\n",
    "# Load saved model\n",
    "# model = load_model('model_mlp_time_data.h5')"
   ]
  },
  {
   "cell_type": "code",
   "execution_count": 35,
   "metadata": {},
   "outputs": [
    {
     "data": {
      "image/png": "[encoded data removed]",
      "text/plain": [
       "<Figure size 432x288 with 1 Axes>"
      ]
     },
     "metadata": {},
     "output_type": "display_data"
    },
    {
     "name": "stdout",
     "output_type": "stream",
     "text": [
      "Test RMSE: 6.270868870590939\n"
     ]
    }
   ],
   "source": [
    "# 100 components, full data, n_estimators = 100, reg:gamma\n",
    "# preds = model.predict(np.reshape(X_val, (X_val.shape[0], X_val.shape[1], 1)))\n",
    "# rmse = np.sqrt(mean_squared_error(preds, Y_val)) #np.sqrt(np.mean((preds-Y_testing)**2))\n",
    "# print(\"Val RMSE:\", rmse)\n",
    "\n",
    "preds = model.predict(X_testing)#np.reshape(X_testing, (X_testing.shape[0], X_testing.shape[1], 1)))\n",
    "plt.plot(preds,'o',color='blue',markersize=2,mew=0.5,mec='blue',markerfacecolor='none')\n",
    "plt.plot(Y_testing,'r',linewidth=1.0)\n",
    "plt.legend(['Precitions', 'Ground Truth'])\n",
    "plt.show()\n",
    "\n",
    "rmse = np.sqrt(mean_squared_error(preds, Y_testing)) #np.sqrt(np.mean((preds-Y_testing)**2))\n",
    "print(\"Test RMSE:\", rmse)"
   ]
  },
  {
   "cell_type": "code",
   "execution_count": 8,
   "metadata": {},
   "outputs": [
    {
     "ename": "ImportError",
     "evalue": "Failed to import pydot. You must install pydot and graphviz for `pydotprint` to work.",
     "output_type": "error",
     "traceback": [
      "\u001b[0;31m---------------------------------------------------------------------------\u001b[0m",
      "\u001b[0;31mFileNotFoundError\u001b[0m                         Traceback (most recent call last)",
      "\u001b[0;32m~/.conda/envs/python_env/lib/python3.6/site-packages/pydot.py\u001b[0m in \u001b[0;36mcreate\u001b[0;34m(self, prog, format, encoding)\u001b[0m\n\u001b[1;32m   1860\u001b[0m                 \u001b[0mshell\u001b[0m\u001b[0;34m=\u001b[0m\u001b[0;32mFalse\u001b[0m\u001b[0;34m,\u001b[0m\u001b[0;34m\u001b[0m\u001b[0m\n\u001b[0;32m-> 1861\u001b[0;31m                 stderr=subprocess.PIPE, stdout=subprocess.PIPE)\n\u001b[0m\u001b[1;32m   1862\u001b[0m         \u001b[0;32mexcept\u001b[0m \u001b[0mOSError\u001b[0m \u001b[0;32mas\u001b[0m \u001b[0me\u001b[0m\u001b[0;34m:\u001b[0m\u001b[0;34m\u001b[0m\u001b[0m\n",
      "\u001b[0;32m~/.conda/envs/python_env/lib/python3.6/subprocess.py\u001b[0m in \u001b[0;36m__init__\u001b[0;34m(self, args, bufsize, executable, stdin, stdout, stderr, preexec_fn, close_fds, shell, cwd, env, universal_newlines, startupinfo, creationflags, restore_signals, start_new_session, pass_fds, encoding, errors)\u001b[0m\n\u001b[1;32m    708\u001b[0m                                 \u001b[0merrread\u001b[0m\u001b[0;34m,\u001b[0m \u001b[0merrwrite\u001b[0m\u001b[0;34m,\u001b[0m\u001b[0;34m\u001b[0m\u001b[0m\n\u001b[0;32m--> 709\u001b[0;31m                                 restore_signals, start_new_session)\n\u001b[0m\u001b[1;32m    710\u001b[0m         \u001b[0;32mexcept\u001b[0m\u001b[0;34m:\u001b[0m\u001b[0;34m\u001b[0m\u001b[0m\n",
      "\u001b[0;32m~/.conda/envs/python_env/lib/python3.6/subprocess.py\u001b[0m in \u001b[0;36m_execute_child\u001b[0;34m(self, args, executable, preexec_fn, close_fds, pass_fds, cwd, env, startupinfo, creationflags, shell, p2cread, p2cwrite, c2pread, c2pwrite, errread, errwrite, restore_signals, start_new_session)\u001b[0m\n\u001b[1;32m   1343\u001b[0m                             \u001b[0merr_msg\u001b[0m \u001b[0;34m+=\u001b[0m \u001b[0;34m': '\u001b[0m \u001b[0;34m+\u001b[0m \u001b[0mrepr\u001b[0m\u001b[0;34m(\u001b[0m\u001b[0merr_filename\u001b[0m\u001b[0;34m)\u001b[0m\u001b[0;34m\u001b[0m\u001b[0m\n\u001b[0;32m-> 1344\u001b[0;31m                     \u001b[0;32mraise\u001b[0m \u001b[0mchild_exception_type\u001b[0m\u001b[0;34m(\u001b[0m\u001b[0merrno_num\u001b[0m\u001b[0;34m,\u001b[0m \u001b[0merr_msg\u001b[0m\u001b[0;34m,\u001b[0m \u001b[0merr_filename\u001b[0m\u001b[0;34m)\u001b[0m\u001b[0;34m\u001b[0m\u001b[0m\n\u001b[0m\u001b[1;32m   1345\u001b[0m                 \u001b[0;32mraise\u001b[0m \u001b[0mchild_exception_type\u001b[0m\u001b[0;34m(\u001b[0m\u001b[0merr_msg\u001b[0m\u001b[0;34m)\u001b[0m\u001b[0;34m\u001b[0m\u001b[0m\n",
      "\u001b[0;31mFileNotFoundError\u001b[0m: [Errno 2] No such file or directory: 'dot': 'dot'",
      "\nDuring handling of the above exception, another exception occurred:\n",
      "\u001b[0;31mFileNotFoundError\u001b[0m                         Traceback (most recent call last)",
      "\u001b[0;32m~/.conda/envs/python_env/lib/python3.6/site-packages/keras/utils/vis_utils.py\u001b[0m in \u001b[0;36m_check_pydot\u001b[0;34m()\u001b[0m\n\u001b[1;32m     26\u001b[0m         \u001b[0;31m# to check the pydot/graphviz installation.\u001b[0m\u001b[0;34m\u001b[0m\u001b[0;34m\u001b[0m\u001b[0m\n\u001b[0;32m---> 27\u001b[0;31m         \u001b[0mpydot\u001b[0m\u001b[0;34m.\u001b[0m\u001b[0mDot\u001b[0m\u001b[0;34m.\u001b[0m\u001b[0mcreate\u001b[0m\u001b[0;34m(\u001b[0m\u001b[0mpydot\u001b[0m\u001b[0;34m.\u001b[0m\u001b[0mDot\u001b[0m\u001b[0;34m(\u001b[0m\u001b[0;34m)\u001b[0m\u001b[0;34m)\u001b[0m\u001b[0;34m\u001b[0m\u001b[0m\n\u001b[0m\u001b[1;32m     28\u001b[0m     \u001b[0;32mexcept\u001b[0m \u001b[0mException\u001b[0m\u001b[0;34m:\u001b[0m\u001b[0;34m\u001b[0m\u001b[0m\n",
      "\u001b[0;32m~/.conda/envs/python_env/lib/python3.6/site-packages/pydot.py\u001b[0m in \u001b[0;36mcreate\u001b[0;34m(self, prog, format, encoding)\u001b[0m\n\u001b[1;32m   1866\u001b[0m                     prog=prog)\n\u001b[0;32m-> 1867\u001b[0;31m                 \u001b[0;32mraise\u001b[0m \u001b[0mOSError\u001b[0m\u001b[0;34m(\u001b[0m\u001b[0;34m*\u001b[0m\u001b[0margs\u001b[0m\u001b[0;34m)\u001b[0m\u001b[0;34m\u001b[0m\u001b[0m\n\u001b[0m\u001b[1;32m   1868\u001b[0m             \u001b[0;32melse\u001b[0m\u001b[0;34m:\u001b[0m\u001b[0;34m\u001b[0m\u001b[0m\n",
      "\u001b[0;31mFileNotFoundError\u001b[0m: [Errno 2] \"dot\" not found in path.",
      "\nDuring handling of the above exception, another exception occurred:\n",
      "\u001b[0;31mImportError\u001b[0m                               Traceback (most recent call last)",
      "\u001b[0;32m<ipython-input-8-d7feff7dd1aa>\u001b[0m in \u001b[0;36m<module>\u001b[0;34m()\u001b[0m\n\u001b[1;32m      1\u001b[0m \u001b[0;32mfrom\u001b[0m \u001b[0mkeras\u001b[0m\u001b[0;34m.\u001b[0m\u001b[0mutils\u001b[0m\u001b[0;34m.\u001b[0m\u001b[0mvis_utils\u001b[0m \u001b[0;32mimport\u001b[0m \u001b[0mplot_model\u001b[0m\u001b[0;34m\u001b[0m\u001b[0m\n\u001b[0;32m----> 2\u001b[0;31m \u001b[0mplot_model\u001b[0m\u001b[0;34m(\u001b[0m\u001b[0mmodel\u001b[0m\u001b[0;34m,\u001b[0m \u001b[0mto_file\u001b[0m\u001b[0;34m=\u001b[0m\u001b[0;34m'model_1D_CNN.png'\u001b[0m\u001b[0;34m)\u001b[0m\u001b[0;34m\u001b[0m\u001b[0m\n\u001b[0m",
      "\u001b[0;32m~/.conda/envs/python_env/lib/python3.6/site-packages/keras/utils/vis_utils.py\u001b[0m in \u001b[0;36mplot_model\u001b[0;34m(model, to_file, show_shapes, show_layer_names, rankdir)\u001b[0m\n\u001b[1;32m    133\u001b[0m             \u001b[0;34m'LR'\u001b[0m \u001b[0mcreates\u001b[0m \u001b[0ma\u001b[0m \u001b[0mhorizontal\u001b[0m \u001b[0mplot\u001b[0m\u001b[0;34m.\u001b[0m\u001b[0;34m\u001b[0m\u001b[0m\n\u001b[1;32m    134\u001b[0m     \"\"\"\n\u001b[0;32m--> 135\u001b[0;31m     \u001b[0mdot\u001b[0m \u001b[0;34m=\u001b[0m \u001b[0mmodel_to_dot\u001b[0m\u001b[0;34m(\u001b[0m\u001b[0mmodel\u001b[0m\u001b[0;34m,\u001b[0m \u001b[0mshow_shapes\u001b[0m\u001b[0;34m,\u001b[0m \u001b[0mshow_layer_names\u001b[0m\u001b[0;34m,\u001b[0m \u001b[0mrankdir\u001b[0m\u001b[0;34m)\u001b[0m\u001b[0;34m\u001b[0m\u001b[0m\n\u001b[0m\u001b[1;32m    136\u001b[0m     \u001b[0m_\u001b[0m\u001b[0;34m,\u001b[0m \u001b[0mextension\u001b[0m \u001b[0;34m=\u001b[0m \u001b[0mos\u001b[0m\u001b[0;34m.\u001b[0m\u001b[0mpath\u001b[0m\u001b[0;34m.\u001b[0m\u001b[0msplitext\u001b[0m\u001b[0;34m(\u001b[0m\u001b[0mto_file\u001b[0m\u001b[0;34m)\u001b[0m\u001b[0;34m\u001b[0m\u001b[0m\n\u001b[1;32m    137\u001b[0m     \u001b[0;32mif\u001b[0m \u001b[0;32mnot\u001b[0m \u001b[0mextension\u001b[0m\u001b[0;34m:\u001b[0m\u001b[0;34m\u001b[0m\u001b[0m\n",
      "\u001b[0;32m~/.conda/envs/python_env/lib/python3.6/site-packages/keras/utils/vis_utils.py\u001b[0m in \u001b[0;36mmodel_to_dot\u001b[0;34m(model, show_shapes, show_layer_names, rankdir)\u001b[0m\n\u001b[1;32m     54\u001b[0m     \u001b[0;32mfrom\u001b[0m \u001b[0;34m.\u001b[0m\u001b[0;34m.\u001b[0m\u001b[0mmodels\u001b[0m \u001b[0;32mimport\u001b[0m \u001b[0mSequential\u001b[0m\u001b[0;34m\u001b[0m\u001b[0m\n\u001b[1;32m     55\u001b[0m \u001b[0;34m\u001b[0m\u001b[0m\n\u001b[0;32m---> 56\u001b[0;31m     \u001b[0m_check_pydot\u001b[0m\u001b[0;34m(\u001b[0m\u001b[0;34m)\u001b[0m\u001b[0;34m\u001b[0m\u001b[0m\n\u001b[0m\u001b[1;32m     57\u001b[0m     \u001b[0mdot\u001b[0m \u001b[0;34m=\u001b[0m \u001b[0mpydot\u001b[0m\u001b[0;34m.\u001b[0m\u001b[0mDot\u001b[0m\u001b[0;34m(\u001b[0m\u001b[0;34m)\u001b[0m\u001b[0;34m\u001b[0m\u001b[0m\n\u001b[1;32m     58\u001b[0m     \u001b[0mdot\u001b[0m\u001b[0;34m.\u001b[0m\u001b[0mset\u001b[0m\u001b[0;34m(\u001b[0m\u001b[0;34m'rankdir'\u001b[0m\u001b[0;34m,\u001b[0m \u001b[0mrankdir\u001b[0m\u001b[0;34m)\u001b[0m\u001b[0;34m\u001b[0m\u001b[0m\n",
      "\u001b[0;32m~/.conda/envs/python_env/lib/python3.6/site-packages/keras/utils/vis_utils.py\u001b[0m in \u001b[0;36m_check_pydot\u001b[0;34m()\u001b[0m\n\u001b[1;32m     29\u001b[0m         \u001b[0;31m# pydot raises a generic Exception here,\u001b[0m\u001b[0;34m\u001b[0m\u001b[0;34m\u001b[0m\u001b[0m\n\u001b[1;32m     30\u001b[0m         \u001b[0;31m# so no specific class can be caught.\u001b[0m\u001b[0;34m\u001b[0m\u001b[0;34m\u001b[0m\u001b[0m\n\u001b[0;32m---> 31\u001b[0;31m         raise ImportError('Failed to import pydot. You must install pydot'\n\u001b[0m\u001b[1;32m     32\u001b[0m                           ' and graphviz for `pydotprint` to work.')\n\u001b[1;32m     33\u001b[0m \u001b[0;34m\u001b[0m\u001b[0m\n",
      "\u001b[0;31mImportError\u001b[0m: Failed to import pydot. You must install pydot and graphviz for `pydotprint` to work."
     ]
    }
   ],
   "source": [
    "from keras.utils.vis_utils import plot_model\n",
    "plot_model(model, to_file='model_1D_CNN.png')"
   ]
  }
 ],
 "metadata": {
  "kernelspec": {
   "display_name": "Python 3",
   "language": "python",
   "name": "python3"
  },
  "language_info": {
   "codemirror_mode": {
    "name": "ipython",
    "version": 3
   },
   "file_extension": ".py",
   "mimetype": "text/x-python",
   "name": "python",
   "nbconvert_exporter": "python",
   "pygments_lexer": "ipython3",
   "version": "3.6.5"
  }
 },
 "nbformat": 4,
 "nbformat_minor": 2
}
